{
 "cells": [
  {
   "cell_type": "code",
   "execution_count": 2,
   "metadata": {},
   "outputs": [],
   "source": [
    "import pandas as pd\n",
    "from sqlalchemy import create_engine\n",
    "from sqlalchemy.orm import Session"
   ]
  },
  {
   "cell_type": "markdown",
   "metadata": {},
   "source": [
    "Extract CSVs into DataFrames"
   ]
  },
  {
   "cell_type": "code",
   "execution_count": 3,
   "metadata": {},
   "outputs": [
    {
     "output_type": "execute_result",
     "data": {
      "text/plain": "  country state State Name          county        lat         lng   type  \\\n0      US    AK     Alaska  aleutians east  63.588753 -154.493062    ICU   \n1      US    AK     Alaska  aleutians west  63.588753 -154.493062    ICU   \n2      US    AK     Alaska       anchorage  63.588753 -154.493062  ACUTE   \n3      US    AK     Alaska       anchorage  63.588753 -154.493062    ICU   \n4      US    AK     Alaska       anchorage  63.588753 -154.493062  OTHER   \n\n   measure      beds  population  year  source  \\\n0  1000HAB  0.000000        3338  2019     khn   \n1  1000HAB  0.000000        5784  2019     khn   \n2  1000HAB  2.182916      298225  2018  arcgis   \n3  1000HAB  0.244782      298225  2019     khn   \n4  1000HAB  0.191131      298225  2019  arcgis   \n\n                                          source_url  \n0  https://khn.org/news/as-coronavirus-spreads-wi...  \n1  https://khn.org/news/as-coronavirus-spreads-wi...  \n2  https://services1.arcgis.com/Hp6G80Pky0om7QvQ/...  \n3  https://khn.org/news/as-coronavirus-spreads-wi...  \n4  https://services1.arcgis.com/Hp6G80Pky0om7QvQ/...  ",
      "text/html": "<div>\n<style scoped>\n    .dataframe tbody tr th:only-of-type {\n        vertical-align: middle;\n    }\n\n    .dataframe tbody tr th {\n        vertical-align: top;\n    }\n\n    .dataframe thead th {\n        text-align: right;\n    }\n</style>\n<table border=\"1\" class=\"dataframe\">\n  <thead>\n    <tr style=\"text-align: right;\">\n      <th></th>\n      <th>country</th>\n      <th>state</th>\n      <th>State Name</th>\n      <th>county</th>\n      <th>lat</th>\n      <th>lng</th>\n      <th>type</th>\n      <th>measure</th>\n      <th>beds</th>\n      <th>population</th>\n      <th>year</th>\n      <th>source</th>\n      <th>source_url</th>\n    </tr>\n  </thead>\n  <tbody>\n    <tr>\n      <th>0</th>\n      <td>US</td>\n      <td>AK</td>\n      <td>Alaska</td>\n      <td>aleutians east</td>\n      <td>63.588753</td>\n      <td>-154.493062</td>\n      <td>ICU</td>\n      <td>1000HAB</td>\n      <td>0.000000</td>\n      <td>3338</td>\n      <td>2019</td>\n      <td>khn</td>\n      <td>https://khn.org/news/as-coronavirus-spreads-wi...</td>\n    </tr>\n    <tr>\n      <th>1</th>\n      <td>US</td>\n      <td>AK</td>\n      <td>Alaska</td>\n      <td>aleutians west</td>\n      <td>63.588753</td>\n      <td>-154.493062</td>\n      <td>ICU</td>\n      <td>1000HAB</td>\n      <td>0.000000</td>\n      <td>5784</td>\n      <td>2019</td>\n      <td>khn</td>\n      <td>https://khn.org/news/as-coronavirus-spreads-wi...</td>\n    </tr>\n    <tr>\n      <th>2</th>\n      <td>US</td>\n      <td>AK</td>\n      <td>Alaska</td>\n      <td>anchorage</td>\n      <td>63.588753</td>\n      <td>-154.493062</td>\n      <td>ACUTE</td>\n      <td>1000HAB</td>\n      <td>2.182916</td>\n      <td>298225</td>\n      <td>2018</td>\n      <td>arcgis</td>\n      <td>https://services1.arcgis.com/Hp6G80Pky0om7QvQ/...</td>\n    </tr>\n    <tr>\n      <th>3</th>\n      <td>US</td>\n      <td>AK</td>\n      <td>Alaska</td>\n      <td>anchorage</td>\n      <td>63.588753</td>\n      <td>-154.493062</td>\n      <td>ICU</td>\n      <td>1000HAB</td>\n      <td>0.244782</td>\n      <td>298225</td>\n      <td>2019</td>\n      <td>khn</td>\n      <td>https://khn.org/news/as-coronavirus-spreads-wi...</td>\n    </tr>\n    <tr>\n      <th>4</th>\n      <td>US</td>\n      <td>AK</td>\n      <td>Alaska</td>\n      <td>anchorage</td>\n      <td>63.588753</td>\n      <td>-154.493062</td>\n      <td>OTHER</td>\n      <td>1000HAB</td>\n      <td>0.191131</td>\n      <td>298225</td>\n      <td>2019</td>\n      <td>arcgis</td>\n      <td>https://services1.arcgis.com/Hp6G80Pky0om7QvQ/...</td>\n    </tr>\n  </tbody>\n</table>\n</div>"
     },
     "metadata": {},
     "execution_count": 3
    }
   ],
   "source": [
    "hospital_beds_file = \"hospital_beds_USA_v1.csv\"\n",
    "hospital_beds_df = pd.read_csv(hospital_beds_file)\n",
    "hospital_beds_df.head()"
   ]
  },
  {
   "cell_type": "code",
   "execution_count": 4,
   "metadata": {},
   "outputs": [
    {
     "output_type": "execute_result",
     "data": {
      "text/plain": "  state State Name          county   type      beds  population\n0    AK     Alaska  aleutians east    ICU  0.000000        3338\n1    AK     Alaska  aleutians west    ICU  0.000000        5784\n2    AK     Alaska       anchorage  ACUTE  2.182916      298225\n3    AK     Alaska       anchorage    ICU  0.244782      298225\n4    AK     Alaska       anchorage  OTHER  0.191131      298225",
      "text/html": "<div>\n<style scoped>\n    .dataframe tbody tr th:only-of-type {\n        vertical-align: middle;\n    }\n\n    .dataframe tbody tr th {\n        vertical-align: top;\n    }\n\n    .dataframe thead th {\n        text-align: right;\n    }\n</style>\n<table border=\"1\" class=\"dataframe\">\n  <thead>\n    <tr style=\"text-align: right;\">\n      <th></th>\n      <th>state</th>\n      <th>State Name</th>\n      <th>county</th>\n      <th>type</th>\n      <th>beds</th>\n      <th>population</th>\n    </tr>\n  </thead>\n  <tbody>\n    <tr>\n      <th>0</th>\n      <td>AK</td>\n      <td>Alaska</td>\n      <td>aleutians east</td>\n      <td>ICU</td>\n      <td>0.000000</td>\n      <td>3338</td>\n    </tr>\n    <tr>\n      <th>1</th>\n      <td>AK</td>\n      <td>Alaska</td>\n      <td>aleutians west</td>\n      <td>ICU</td>\n      <td>0.000000</td>\n      <td>5784</td>\n    </tr>\n    <tr>\n      <th>2</th>\n      <td>AK</td>\n      <td>Alaska</td>\n      <td>anchorage</td>\n      <td>ACUTE</td>\n      <td>2.182916</td>\n      <td>298225</td>\n    </tr>\n    <tr>\n      <th>3</th>\n      <td>AK</td>\n      <td>Alaska</td>\n      <td>anchorage</td>\n      <td>ICU</td>\n      <td>0.244782</td>\n      <td>298225</td>\n    </tr>\n    <tr>\n      <th>4</th>\n      <td>AK</td>\n      <td>Alaska</td>\n      <td>anchorage</td>\n      <td>OTHER</td>\n      <td>0.191131</td>\n      <td>298225</td>\n    </tr>\n  </tbody>\n</table>\n</div>"
     },
     "metadata": {},
     "execution_count": 4
    }
   ],
   "source": [
    "hospital_beds_df=hospital_beds_df[['state', 'State Name', 'county', 'type', 'beds', 'population']]\n",
    "hospital_beds_df.head()"
   ]
  },
  {
   "cell_type": "code",
   "execution_count": 5,
   "metadata": {},
   "outputs": [
    {
     "output_type": "execute_result",
     "data": {
      "text/plain": "        date     county state  State Name     fips  cases  deaths\n0  1/21/2020  Snohomish    WA  Washington  53061.0      1       0\n1  1/22/2020  Snohomish    WA  Washington  53061.0      1       0\n2  1/23/2020  Snohomish    WA  Washington  53061.0      1       0\n3  1/24/2020       Cook    IL    Illinois  17031.0      1       0\n4  1/24/2020  Snohomish    WA  Washington  53061.0      1       0",
      "text/html": "<div>\n<style scoped>\n    .dataframe tbody tr th:only-of-type {\n        vertical-align: middle;\n    }\n\n    .dataframe tbody tr th {\n        vertical-align: top;\n    }\n\n    .dataframe thead th {\n        text-align: right;\n    }\n</style>\n<table border=\"1\" class=\"dataframe\">\n  <thead>\n    <tr style=\"text-align: right;\">\n      <th></th>\n      <th>date</th>\n      <th>county</th>\n      <th>state</th>\n      <th>State Name</th>\n      <th>fips</th>\n      <th>cases</th>\n      <th>deaths</th>\n    </tr>\n  </thead>\n  <tbody>\n    <tr>\n      <th>0</th>\n      <td>1/21/2020</td>\n      <td>Snohomish</td>\n      <td>WA</td>\n      <td>Washington</td>\n      <td>53061.0</td>\n      <td>1</td>\n      <td>0</td>\n    </tr>\n    <tr>\n      <th>1</th>\n      <td>1/22/2020</td>\n      <td>Snohomish</td>\n      <td>WA</td>\n      <td>Washington</td>\n      <td>53061.0</td>\n      <td>1</td>\n      <td>0</td>\n    </tr>\n    <tr>\n      <th>2</th>\n      <td>1/23/2020</td>\n      <td>Snohomish</td>\n      <td>WA</td>\n      <td>Washington</td>\n      <td>53061.0</td>\n      <td>1</td>\n      <td>0</td>\n    </tr>\n    <tr>\n      <th>3</th>\n      <td>1/24/2020</td>\n      <td>Cook</td>\n      <td>IL</td>\n      <td>Illinois</td>\n      <td>17031.0</td>\n      <td>1</td>\n      <td>0</td>\n    </tr>\n    <tr>\n      <th>4</th>\n      <td>1/24/2020</td>\n      <td>Snohomish</td>\n      <td>WA</td>\n      <td>Washington</td>\n      <td>53061.0</td>\n      <td>1</td>\n      <td>0</td>\n    </tr>\n  </tbody>\n</table>\n</div>"
     },
     "metadata": {},
     "execution_count": 5
    }
   ],
   "source": [
    "covid_counties_file = \"us_counties_covid19_daily.csv\"\n",
    "covid_counties_df = pd.read_csv(covid_counties_file)\n",
    "covid_counties_df.head()"
   ]
  },
  {
   "cell_type": "code",
   "execution_count": 6,
   "metadata": {},
   "outputs": [
    {
     "output_type": "execute_result",
     "data": {
      "text/plain": "       date state  positive  negative  pending  hospitalizedCurrently  \\\n0  20200628    AK     883.0  107417.0      NaN                   12.0   \n1  20200628    AL   35441.0  350839.0      NaN                  655.0   \n2  20200628    AR   19310.0  271912.0      NaN                  278.0   \n3  20200628    AS       0.0     696.0      NaN                    NaN   \n4  20200628    AZ   73908.0  435988.0      NaN                 2691.0   \n\n   hospitalizedCumulative  inIcuCurrently  inIcuCumulative  \\\n0                     NaN             NaN              NaN   \n1                  2703.0             NaN            790.0   \n2                  1373.0             NaN              NaN   \n3                     NaN             NaN              NaN   \n4                  4617.0           666.0              NaN   \n\n   onVentilatorCurrently  ...  posNeg  deathIncrease hospitalizedIncrease  \\\n0                    1.0  ...  108300              0                    0   \n1                    NaN  ...  386280              0                    6   \n2                   63.0  ...  291222             10                   36   \n3                    NaN  ...     696              0                    0   \n4                  475.0  ...  509896              9                   22   \n\n                                       hash commercialScore  \\\n0  61f0e987f53033504c83b57eba92ca6b8301f82f               0   \n1  e77ed44903fbc89d23369bddb764747fb22c1846               0   \n2  cf7dc4fed80d9e5f146805466ac46a86be03500e               0   \n3  bc0c828812911b6e21564bbad527eb4166b21808               0   \n4  73307373c5264afa2c0253610ab1260dbbdbec76               0   \n\n  negativeRegularScore  negativeScore  positiveScore score  grade  \n0                    0              0              0     0    NaN  \n1                    0              0              0     0    NaN  \n2                    0              0              0     0    NaN  \n3                    0              0              0     0    NaN  \n4                    0              0              0     0    NaN  \n\n[5 rows x 39 columns]",
      "text/html": "<div>\n<style scoped>\n    .dataframe tbody tr th:only-of-type {\n        vertical-align: middle;\n    }\n\n    .dataframe tbody tr th {\n        vertical-align: top;\n    }\n\n    .dataframe thead th {\n        text-align: right;\n    }\n</style>\n<table border=\"1\" class=\"dataframe\">\n  <thead>\n    <tr style=\"text-align: right;\">\n      <th></th>\n      <th>date</th>\n      <th>state</th>\n      <th>positive</th>\n      <th>negative</th>\n      <th>pending</th>\n      <th>hospitalizedCurrently</th>\n      <th>hospitalizedCumulative</th>\n      <th>inIcuCurrently</th>\n      <th>inIcuCumulative</th>\n      <th>onVentilatorCurrently</th>\n      <th>...</th>\n      <th>posNeg</th>\n      <th>deathIncrease</th>\n      <th>hospitalizedIncrease</th>\n      <th>hash</th>\n      <th>commercialScore</th>\n      <th>negativeRegularScore</th>\n      <th>negativeScore</th>\n      <th>positiveScore</th>\n      <th>score</th>\n      <th>grade</th>\n    </tr>\n  </thead>\n  <tbody>\n    <tr>\n      <th>0</th>\n      <td>20200628</td>\n      <td>AK</td>\n      <td>883.0</td>\n      <td>107417.0</td>\n      <td>NaN</td>\n      <td>12.0</td>\n      <td>NaN</td>\n      <td>NaN</td>\n      <td>NaN</td>\n      <td>1.0</td>\n      <td>...</td>\n      <td>108300</td>\n      <td>0</td>\n      <td>0</td>\n      <td>61f0e987f53033504c83b57eba92ca6b8301f82f</td>\n      <td>0</td>\n      <td>0</td>\n      <td>0</td>\n      <td>0</td>\n      <td>0</td>\n      <td>NaN</td>\n    </tr>\n    <tr>\n      <th>1</th>\n      <td>20200628</td>\n      <td>AL</td>\n      <td>35441.0</td>\n      <td>350839.0</td>\n      <td>NaN</td>\n      <td>655.0</td>\n      <td>2703.0</td>\n      <td>NaN</td>\n      <td>790.0</td>\n      <td>NaN</td>\n      <td>...</td>\n      <td>386280</td>\n      <td>0</td>\n      <td>6</td>\n      <td>e77ed44903fbc89d23369bddb764747fb22c1846</td>\n      <td>0</td>\n      <td>0</td>\n      <td>0</td>\n      <td>0</td>\n      <td>0</td>\n      <td>NaN</td>\n    </tr>\n    <tr>\n      <th>2</th>\n      <td>20200628</td>\n      <td>AR</td>\n      <td>19310.0</td>\n      <td>271912.0</td>\n      <td>NaN</td>\n      <td>278.0</td>\n      <td>1373.0</td>\n      <td>NaN</td>\n      <td>NaN</td>\n      <td>63.0</td>\n      <td>...</td>\n      <td>291222</td>\n      <td>10</td>\n      <td>36</td>\n      <td>cf7dc4fed80d9e5f146805466ac46a86be03500e</td>\n      <td>0</td>\n      <td>0</td>\n      <td>0</td>\n      <td>0</td>\n      <td>0</td>\n      <td>NaN</td>\n    </tr>\n    <tr>\n      <th>3</th>\n      <td>20200628</td>\n      <td>AS</td>\n      <td>0.0</td>\n      <td>696.0</td>\n      <td>NaN</td>\n      <td>NaN</td>\n      <td>NaN</td>\n      <td>NaN</td>\n      <td>NaN</td>\n      <td>NaN</td>\n      <td>...</td>\n      <td>696</td>\n      <td>0</td>\n      <td>0</td>\n      <td>bc0c828812911b6e21564bbad527eb4166b21808</td>\n      <td>0</td>\n      <td>0</td>\n      <td>0</td>\n      <td>0</td>\n      <td>0</td>\n      <td>NaN</td>\n    </tr>\n    <tr>\n      <th>4</th>\n      <td>20200628</td>\n      <td>AZ</td>\n      <td>73908.0</td>\n      <td>435988.0</td>\n      <td>NaN</td>\n      <td>2691.0</td>\n      <td>4617.0</td>\n      <td>666.0</td>\n      <td>NaN</td>\n      <td>475.0</td>\n      <td>...</td>\n      <td>509896</td>\n      <td>9</td>\n      <td>22</td>\n      <td>73307373c5264afa2c0253610ab1260dbbdbec76</td>\n      <td>0</td>\n      <td>0</td>\n      <td>0</td>\n      <td>0</td>\n      <td>0</td>\n      <td>NaN</td>\n    </tr>\n  </tbody>\n</table>\n<p>5 rows × 39 columns</p>\n</div>"
     },
     "metadata": {},
     "execution_count": 6
    }
   ],
   "source": [
    "covid_states_file = \"us_states_covid19_daily.csv\"\n",
    "covid_states_df = pd.read_csv(covid_states_file)\n",
    "covid_states_df.head()"
   ]
  },
  {
   "cell_type": "code",
   "execution_count": 7,
   "metadata": {},
   "outputs": [
    {
     "output_type": "execute_result",
     "data": {
      "text/plain": "       date state  positive  negative  pending  hospitalizedCurrently  \\\n0  20200628    AK     883.0  107417.0      NaN                   12.0   \n1  20200628    AL   35441.0  350839.0      NaN                  655.0   \n2  20200628    AR   19310.0  271912.0      NaN                  278.0   \n3  20200628    AS       0.0     696.0      NaN                    NaN   \n4  20200628    AZ   73908.0  435988.0      NaN                 2691.0   \n\n   hospitalizedCumulative  inIcuCurrently  inIcuCumulative  \\\n0                     NaN             NaN              NaN   \n1                  2703.0             NaN            790.0   \n2                  1373.0             NaN              NaN   \n3                     NaN             NaN              NaN   \n4                  4617.0           666.0              NaN   \n\n   onVentilatorCurrently  ...  negativeTestsViral  positiveCasesViral  \\\n0                    1.0  ...                 NaN                 NaN   \n1                    NaN  ...                 NaN             34964.0   \n2                   63.0  ...                 NaN             19310.0   \n3                    NaN  ...                 NaN                 NaN   \n4                  475.0  ...                 NaN             73497.0   \n\n   positiveIncrease  negativeIncrease   total  totalTestResults  \\\n0                29              2690  108300            108300   \n1               358              1896  386280            386280   \n2               570              6687  291222            291222   \n3                 0                 0     696               696   \n4              3857             11292  509896            509896   \n\n   totalTestResultsIncrease  posNeg  deathIncrease  hospitalizedIncrease  \n0                      2719  108300              0                     0  \n1                      2254  386280              0                     6  \n2                      7257  291222             10                    36  \n3                         0     696              0                     0  \n4                     15149  509896              9                    22  \n\n[5 rows x 26 columns]",
      "text/html": "<div>\n<style scoped>\n    .dataframe tbody tr th:only-of-type {\n        vertical-align: middle;\n    }\n\n    .dataframe tbody tr th {\n        vertical-align: top;\n    }\n\n    .dataframe thead th {\n        text-align: right;\n    }\n</style>\n<table border=\"1\" class=\"dataframe\">\n  <thead>\n    <tr style=\"text-align: right;\">\n      <th></th>\n      <th>date</th>\n      <th>state</th>\n      <th>positive</th>\n      <th>negative</th>\n      <th>pending</th>\n      <th>hospitalizedCurrently</th>\n      <th>hospitalizedCumulative</th>\n      <th>inIcuCurrently</th>\n      <th>inIcuCumulative</th>\n      <th>onVentilatorCurrently</th>\n      <th>...</th>\n      <th>negativeTestsViral</th>\n      <th>positiveCasesViral</th>\n      <th>positiveIncrease</th>\n      <th>negativeIncrease</th>\n      <th>total</th>\n      <th>totalTestResults</th>\n      <th>totalTestResultsIncrease</th>\n      <th>posNeg</th>\n      <th>deathIncrease</th>\n      <th>hospitalizedIncrease</th>\n    </tr>\n  </thead>\n  <tbody>\n    <tr>\n      <th>0</th>\n      <td>20200628</td>\n      <td>AK</td>\n      <td>883.0</td>\n      <td>107417.0</td>\n      <td>NaN</td>\n      <td>12.0</td>\n      <td>NaN</td>\n      <td>NaN</td>\n      <td>NaN</td>\n      <td>1.0</td>\n      <td>...</td>\n      <td>NaN</td>\n      <td>NaN</td>\n      <td>29</td>\n      <td>2690</td>\n      <td>108300</td>\n      <td>108300</td>\n      <td>2719</td>\n      <td>108300</td>\n      <td>0</td>\n      <td>0</td>\n    </tr>\n    <tr>\n      <th>1</th>\n      <td>20200628</td>\n      <td>AL</td>\n      <td>35441.0</td>\n      <td>350839.0</td>\n      <td>NaN</td>\n      <td>655.0</td>\n      <td>2703.0</td>\n      <td>NaN</td>\n      <td>790.0</td>\n      <td>NaN</td>\n      <td>...</td>\n      <td>NaN</td>\n      <td>34964.0</td>\n      <td>358</td>\n      <td>1896</td>\n      <td>386280</td>\n      <td>386280</td>\n      <td>2254</td>\n      <td>386280</td>\n      <td>0</td>\n      <td>6</td>\n    </tr>\n    <tr>\n      <th>2</th>\n      <td>20200628</td>\n      <td>AR</td>\n      <td>19310.0</td>\n      <td>271912.0</td>\n      <td>NaN</td>\n      <td>278.0</td>\n      <td>1373.0</td>\n      <td>NaN</td>\n      <td>NaN</td>\n      <td>63.0</td>\n      <td>...</td>\n      <td>NaN</td>\n      <td>19310.0</td>\n      <td>570</td>\n      <td>6687</td>\n      <td>291222</td>\n      <td>291222</td>\n      <td>7257</td>\n      <td>291222</td>\n      <td>10</td>\n      <td>36</td>\n    </tr>\n    <tr>\n      <th>3</th>\n      <td>20200628</td>\n      <td>AS</td>\n      <td>0.0</td>\n      <td>696.0</td>\n      <td>NaN</td>\n      <td>NaN</td>\n      <td>NaN</td>\n      <td>NaN</td>\n      <td>NaN</td>\n      <td>NaN</td>\n      <td>...</td>\n      <td>NaN</td>\n      <td>NaN</td>\n      <td>0</td>\n      <td>0</td>\n      <td>696</td>\n      <td>696</td>\n      <td>0</td>\n      <td>696</td>\n      <td>0</td>\n      <td>0</td>\n    </tr>\n    <tr>\n      <th>4</th>\n      <td>20200628</td>\n      <td>AZ</td>\n      <td>73908.0</td>\n      <td>435988.0</td>\n      <td>NaN</td>\n      <td>2691.0</td>\n      <td>4617.0</td>\n      <td>666.0</td>\n      <td>NaN</td>\n      <td>475.0</td>\n      <td>...</td>\n      <td>NaN</td>\n      <td>73497.0</td>\n      <td>3857</td>\n      <td>11292</td>\n      <td>509896</td>\n      <td>509896</td>\n      <td>15149</td>\n      <td>509896</td>\n      <td>9</td>\n      <td>22</td>\n    </tr>\n  </tbody>\n</table>\n<p>5 rows × 26 columns</p>\n</div>"
     },
     "metadata": {},
     "execution_count": 7
    }
   ],
   "source": [
    "covid_states_df = covid_states_df[['date', 'state', 'positive', 'negative', 'pending','hospitalizedCurrently', \n",
    "                                   'hospitalizedCumulative', 'inIcuCurrently', 'inIcuCumulative', 'onVentilatorCurrently',\n",
    "                                   'onVentilatorCumulative', 'recovered', 'death', 'hospitalized', 'totalTestsViral',\n",
    "                                   'positiveTestsViral', 'negativeTestsViral', 'positiveCasesViral', 'positiveIncrease', \n",
    "                                   'negativeIncrease', 'total', 'totalTestResults', 'totalTestResultsIncrease', 'posNeg', \n",
    "                                   'deathIncrease', 'hospitalizedIncrease']]\n",
    "covid_states_df.head()"
   ]
  },
  {
   "cell_type": "code",
   "execution_count": 8,
   "metadata": {},
   "outputs": [
    {
     "output_type": "execute_result",
     "data": {
      "text/plain": "                  beds  population\nState Name                        \nAlabama     213.257766    14541595\nAlaska       28.986550     1934670\nArizona      27.209210    24673886\nArkansas    192.144910     7324935\nCalifornia  173.787152   142663025",
      "text/html": "<div>\n<style scoped>\n    .dataframe tbody tr th:only-of-type {\n        vertical-align: middle;\n    }\n\n    .dataframe tbody tr th {\n        vertical-align: top;\n    }\n\n    .dataframe thead th {\n        text-align: right;\n    }\n</style>\n<table border=\"1\" class=\"dataframe\">\n  <thead>\n    <tr style=\"text-align: right;\">\n      <th></th>\n      <th>beds</th>\n      <th>population</th>\n    </tr>\n    <tr>\n      <th>State Name</th>\n      <th></th>\n      <th></th>\n    </tr>\n  </thead>\n  <tbody>\n    <tr>\n      <th>Alabama</th>\n      <td>213.257766</td>\n      <td>14541595</td>\n    </tr>\n    <tr>\n      <th>Alaska</th>\n      <td>28.986550</td>\n      <td>1934670</td>\n    </tr>\n    <tr>\n      <th>Arizona</th>\n      <td>27.209210</td>\n      <td>24673886</td>\n    </tr>\n    <tr>\n      <th>Arkansas</th>\n      <td>192.144910</td>\n      <td>7324935</td>\n    </tr>\n    <tr>\n      <th>California</th>\n      <td>173.787152</td>\n      <td>142663025</td>\n    </tr>\n  </tbody>\n</table>\n</div>"
     },
     "metadata": {},
     "execution_count": 8
    }
   ],
   "source": [
    "\n",
    "state_hospital_beds_df = hospital_beds_df.groupby('State Name').sum()\n",
    "state_hospital_beds_df.head()"
   ]
  },
  {
   "cell_type": "code",
   "execution_count": 9,
   "metadata": {},
   "outputs": [
    {
     "output_type": "execute_result",
     "data": {
      "text/plain": "     date_y     county  State Name state     fips\n0  20200628  Snohomish  Washington    WA  53061.0\n1  20200627  Snohomish  Washington    WA  53061.0\n2  20200626  Snohomish  Washington    WA  53061.0\n3  20200625  Snohomish  Washington    WA  53061.0\n4  20200624  Snohomish  Washington    WA  53061.0",
      "text/html": "<div>\n<style scoped>\n    .dataframe tbody tr th:only-of-type {\n        vertical-align: middle;\n    }\n\n    .dataframe tbody tr th {\n        vertical-align: top;\n    }\n\n    .dataframe thead th {\n        text-align: right;\n    }\n</style>\n<table border=\"1\" class=\"dataframe\">\n  <thead>\n    <tr style=\"text-align: right;\">\n      <th></th>\n      <th>date_y</th>\n      <th>county</th>\n      <th>State Name</th>\n      <th>state</th>\n      <th>fips</th>\n    </tr>\n  </thead>\n  <tbody>\n    <tr>\n      <th>0</th>\n      <td>20200628</td>\n      <td>Snohomish</td>\n      <td>Washington</td>\n      <td>WA</td>\n      <td>53061.0</td>\n    </tr>\n    <tr>\n      <th>1</th>\n      <td>20200627</td>\n      <td>Snohomish</td>\n      <td>Washington</td>\n      <td>WA</td>\n      <td>53061.0</td>\n    </tr>\n    <tr>\n      <th>2</th>\n      <td>20200626</td>\n      <td>Snohomish</td>\n      <td>Washington</td>\n      <td>WA</td>\n      <td>53061.0</td>\n    </tr>\n    <tr>\n      <th>3</th>\n      <td>20200625</td>\n      <td>Snohomish</td>\n      <td>Washington</td>\n      <td>WA</td>\n      <td>53061.0</td>\n    </tr>\n    <tr>\n      <th>4</th>\n      <td>20200624</td>\n      <td>Snohomish</td>\n      <td>Washington</td>\n      <td>WA</td>\n      <td>53061.0</td>\n    </tr>\n  </tbody>\n</table>\n</div>"
     },
     "metadata": {},
     "execution_count": 9
    }
   ],
   "source": [
    "locations_df = pd.merge(covid_counties_df, covid_states_df, on='state')\n",
    "locations_df = locations_df[['date_y', 'county', 'State Name', 'state', 'fips']]\n",
    "locations_df.head()"
   ]
  },
  {
   "cell_type": "code",
   "execution_count": 10,
   "metadata": {},
   "outputs": [
    {
     "output_type": "execute_result",
     "data": {
      "text/plain": "       date     county  State Name state     fips\n0  20200628  Snohomish  Washington    WA  53061.0\n1  20200627  Snohomish  Washington    WA  53061.0\n2  20200626  Snohomish  Washington    WA  53061.0\n3  20200625  Snohomish  Washington    WA  53061.0\n4  20200624  Snohomish  Washington    WA  53061.0",
      "text/html": "<div>\n<style scoped>\n    .dataframe tbody tr th:only-of-type {\n        vertical-align: middle;\n    }\n\n    .dataframe tbody tr th {\n        vertical-align: top;\n    }\n\n    .dataframe thead th {\n        text-align: right;\n    }\n</style>\n<table border=\"1\" class=\"dataframe\">\n  <thead>\n    <tr style=\"text-align: right;\">\n      <th></th>\n      <th>date</th>\n      <th>county</th>\n      <th>State Name</th>\n      <th>state</th>\n      <th>fips</th>\n    </tr>\n  </thead>\n  <tbody>\n    <tr>\n      <th>0</th>\n      <td>20200628</td>\n      <td>Snohomish</td>\n      <td>Washington</td>\n      <td>WA</td>\n      <td>53061.0</td>\n    </tr>\n    <tr>\n      <th>1</th>\n      <td>20200627</td>\n      <td>Snohomish</td>\n      <td>Washington</td>\n      <td>WA</td>\n      <td>53061.0</td>\n    </tr>\n    <tr>\n      <th>2</th>\n      <td>20200626</td>\n      <td>Snohomish</td>\n      <td>Washington</td>\n      <td>WA</td>\n      <td>53061.0</td>\n    </tr>\n    <tr>\n      <th>3</th>\n      <td>20200625</td>\n      <td>Snohomish</td>\n      <td>Washington</td>\n      <td>WA</td>\n      <td>53061.0</td>\n    </tr>\n    <tr>\n      <th>4</th>\n      <td>20200624</td>\n      <td>Snohomish</td>\n      <td>Washington</td>\n      <td>WA</td>\n      <td>53061.0</td>\n    </tr>\n  </tbody>\n</table>\n</div>"
     },
     "metadata": {},
     "execution_count": 10
    }
   ],
   "source": [
    "locations_df.rename(columns={\"date_y\": \"date\"}, inplace=True)\n",
    "locations_df.head()"
   ]
  },
  {
   "cell_type": "code",
   "execution_count": 16,
   "metadata": {},
   "outputs": [
    {
     "output_type": "execute_result",
     "data": {
      "text/plain": "      county       state      date  positive  negative  pending  \\\n0  Snohomish  Washington  20200628   31404.0  494398.0      NaN   \n1  Snohomish  Washington  20200627   30855.0  483573.0      NaN   \n2  Snohomish  Washington  20200626   30367.0  475428.0      NaN   \n3  Snohomish  Washington  20200625   29869.0  465629.0      NaN   \n4  Snohomish  Washington  20200624   29386.0  457673.0      NaN   \n\n   pos_cases_viral  hospitalized  recovered  deaths  \n0          31404.0         304.0        NaN  1310.0  \n1          30855.0         305.0        NaN  1304.0  \n2          30367.0         272.0        NaN  1300.0  \n3          29869.0         304.0        NaN  1293.0  \n4          29386.0         234.0        NaN  1284.0  ",
      "text/html": "<div>\n<style scoped>\n    .dataframe tbody tr th:only-of-type {\n        vertical-align: middle;\n    }\n\n    .dataframe tbody tr th {\n        vertical-align: top;\n    }\n\n    .dataframe thead th {\n        text-align: right;\n    }\n</style>\n<table border=\"1\" class=\"dataframe\">\n  <thead>\n    <tr style=\"text-align: right;\">\n      <th></th>\n      <th>county</th>\n      <th>state</th>\n      <th>date</th>\n      <th>positive</th>\n      <th>negative</th>\n      <th>pending</th>\n      <th>pos_cases_viral</th>\n      <th>hospitalized</th>\n      <th>recovered</th>\n      <th>deaths</th>\n    </tr>\n  </thead>\n  <tbody>\n    <tr>\n      <th>0</th>\n      <td>Snohomish</td>\n      <td>Washington</td>\n      <td>20200628</td>\n      <td>31404.0</td>\n      <td>494398.0</td>\n      <td>NaN</td>\n      <td>31404.0</td>\n      <td>304.0</td>\n      <td>NaN</td>\n      <td>1310.0</td>\n    </tr>\n    <tr>\n      <th>1</th>\n      <td>Snohomish</td>\n      <td>Washington</td>\n      <td>20200627</td>\n      <td>30855.0</td>\n      <td>483573.0</td>\n      <td>NaN</td>\n      <td>30855.0</td>\n      <td>305.0</td>\n      <td>NaN</td>\n      <td>1304.0</td>\n    </tr>\n    <tr>\n      <th>2</th>\n      <td>Snohomish</td>\n      <td>Washington</td>\n      <td>20200626</td>\n      <td>30367.0</td>\n      <td>475428.0</td>\n      <td>NaN</td>\n      <td>30367.0</td>\n      <td>272.0</td>\n      <td>NaN</td>\n      <td>1300.0</td>\n    </tr>\n    <tr>\n      <th>3</th>\n      <td>Snohomish</td>\n      <td>Washington</td>\n      <td>20200625</td>\n      <td>29869.0</td>\n      <td>465629.0</td>\n      <td>NaN</td>\n      <td>29869.0</td>\n      <td>304.0</td>\n      <td>NaN</td>\n      <td>1293.0</td>\n    </tr>\n    <tr>\n      <th>4</th>\n      <td>Snohomish</td>\n      <td>Washington</td>\n      <td>20200624</td>\n      <td>29386.0</td>\n      <td>457673.0</td>\n      <td>NaN</td>\n      <td>29386.0</td>\n      <td>234.0</td>\n      <td>NaN</td>\n      <td>1284.0</td>\n    </tr>\n  </tbody>\n</table>\n</div>"
     },
     "metadata": {},
     "execution_count": 16
    }
   ],
   "source": [
    "cases_df = pd.merge(covid_counties_df, covid_states_df, on='state')\n",
    "cases_df = cases_df[['county', 'State Name', 'date_y', 'positive','negative','pending','positiveCasesViral','hospitalizedCurrently','recovered','death']]\n",
    "cases_df.rename(columns={\"date_y\": \"date\",'State Name':'state','positiveCasesViral':'pos_cases_viral','hospitalizedCurrently':'hospitalized','death':'deaths'}, inplace=True)\n",
    "cases_df.head()"
   ]
  },
  {
   "cell_type": "code",
   "execution_count": null,
   "metadata": {},
   "outputs": [],
   "source": [
    "avail_hospital_beds_df = pd.merge(covid_counties_df, covid_states_df, on='state')\n",
    "avail_hospital_beds_df = avail_hospital_beds_df[['county', 'State Name', 'date_y', 'beds','type','population']]\n",
    "avail_hospital_beds_df.rename(columns={\"date_y\": \"date\",'State Name':'state','beds':'num_beds','type':'bed_type'}, inplace=True)\n",
    "avail_hospital_beds_df.head()"
   ]
  },
  {
   "cell_type": "code",
   "execution_count": 14,
   "metadata": {},
   "outputs": [],
   "source": [
    "connection_string = \"postgres:@bby@localhost:5432/covid_db\"\n",
    "engine = create_engine(f'postgresql://{connection_string}')\n",
    "connection = engine.connect()\n",
    "session = Session(bind=connection)\n"
   ]
  },
  {
   "cell_type": "code",
   "execution_count": 11,
   "metadata": {},
   "outputs": [
    {
     "data": {
      "text/plain": [
       "['locations']"
      ]
     },
     "execution_count": 11,
     "metadata": {},
     "output_type": "execute_result"
    }
   ],
   "source": [
    "locations_df.to_sql(\n",
    "    name='locations',\n",
    "    con=engine,\n",
    "    index=True,\n",
    "    if_exists='append'\n",
    ")"
   ]
  },
  {
   "cell_type": "code",
   "execution_count": null,
   "metadata": {},
   "outputs": [],
   "source": [
    "locations_df.to_sql(\n",
    "    name='cases',\n",
    "    con=engine,\n",
    "    index=True,\n",
    "    if_exists='append'\n",
    ")"
   ]
  },
  {
   "cell_type": "code",
   "execution_count": null,
   "metadata": {},
   "outputs": [],
   "source": [
    "locations_df.to_sql(\n",
    "    name='avail_hospital_beds',\n",
    "    con=engine,\n",
    "    index=True,\n",
    "    if_exists='append'\n",
    ")"
   ]
  }
 ],
 "metadata": {
  "kernelspec": {
   "display_name": "Python 3",
   "language": "python",
   "name": "python3"
  },
  "language_info": {
   "codemirror_mode": {
    "name": "ipython",
    "version": 3
   },
   "file_extension": ".py",
   "mimetype": "text/x-python",
   "name": "python",
   "nbconvert_exporter": "python",
   "pygments_lexer": "ipython3",
   "version": "3.7.7-final"
  }
 },
 "nbformat": 4,
 "nbformat_minor": 4
}