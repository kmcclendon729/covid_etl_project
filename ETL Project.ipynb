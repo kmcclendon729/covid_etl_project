{
 "cells": [
  {
   "cell_type": "code",
   "execution_count": 1,
   "metadata": {},
   "outputs": [],
   "source": [
    "import pandas as pd\n",
    "from sqlalchemy import create_engine\n",
    "from sqlalchemy.orm import Session"
   ]
  },
  {
   "cell_type": "markdown",
   "metadata": {},
   "source": [
    "Extract CSVs into DataFrames"
   ]
  },
  {
   "cell_type": "code",
   "execution_count": 2,
   "metadata": {},
   "outputs": [
    {
     "output_type": "execute_result",
     "data": {
      "text/plain": "  country state State Name          county        lat         lng   type  \\\n0      US    AK     Alaska  aleutians east  63.588753 -154.493062    ICU   \n1      US    AK     Alaska  aleutians west  63.588753 -154.493062    ICU   \n2      US    AK     Alaska       anchorage  63.588753 -154.493062  ACUTE   \n3      US    AK     Alaska       anchorage  63.588753 -154.493062    ICU   \n4      US    AK     Alaska       anchorage  63.588753 -154.493062  OTHER   \n\n   measure      beds  population  year  source  \\\n0  1000HAB  0.000000        3338  2019     khn   \n1  1000HAB  0.000000        5784  2019     khn   \n2  1000HAB  2.182916      298225  2018  arcgis   \n3  1000HAB  0.244782      298225  2019     khn   \n4  1000HAB  0.191131      298225  2019  arcgis   \n\n                                          source_url  \n0  https://khn.org/news/as-coronavirus-spreads-wi...  \n1  https://khn.org/news/as-coronavirus-spreads-wi...  \n2  https://services1.arcgis.com/Hp6G80Pky0om7QvQ/...  \n3  https://khn.org/news/as-coronavirus-spreads-wi...  \n4  https://services1.arcgis.com/Hp6G80Pky0om7QvQ/...  ",
      "text/html": "<div>\n<style scoped>\n    .dataframe tbody tr th:only-of-type {\n        vertical-align: middle;\n    }\n\n    .dataframe tbody tr th {\n        vertical-align: top;\n    }\n\n    .dataframe thead th {\n        text-align: right;\n    }\n</style>\n<table border=\"1\" class=\"dataframe\">\n  <thead>\n    <tr style=\"text-align: right;\">\n      <th></th>\n      <th>country</th>\n      <th>state</th>\n      <th>State Name</th>\n      <th>county</th>\n      <th>lat</th>\n      <th>lng</th>\n      <th>type</th>\n      <th>measure</th>\n      <th>beds</th>\n      <th>population</th>\n      <th>year</th>\n      <th>source</th>\n      <th>source_url</th>\n    </tr>\n  </thead>\n  <tbody>\n    <tr>\n      <th>0</th>\n      <td>US</td>\n      <td>AK</td>\n      <td>Alaska</td>\n      <td>aleutians east</td>\n      <td>63.588753</td>\n      <td>-154.493062</td>\n      <td>ICU</td>\n      <td>1000HAB</td>\n      <td>0.000000</td>\n      <td>3338</td>\n      <td>2019</td>\n      <td>khn</td>\n      <td>https://khn.org/news/as-coronavirus-spreads-wi...</td>\n    </tr>\n    <tr>\n      <th>1</th>\n      <td>US</td>\n      <td>AK</td>\n      <td>Alaska</td>\n      <td>aleutians west</td>\n      <td>63.588753</td>\n      <td>-154.493062</td>\n      <td>ICU</td>\n      <td>1000HAB</td>\n      <td>0.000000</td>\n      <td>5784</td>\n      <td>2019</td>\n      <td>khn</td>\n      <td>https://khn.org/news/as-coronavirus-spreads-wi...</td>\n    </tr>\n    <tr>\n      <th>2</th>\n      <td>US</td>\n      <td>AK</td>\n      <td>Alaska</td>\n      <td>anchorage</td>\n      <td>63.588753</td>\n      <td>-154.493062</td>\n      <td>ACUTE</td>\n      <td>1000HAB</td>\n      <td>2.182916</td>\n      <td>298225</td>\n      <td>2018</td>\n      <td>arcgis</td>\n      <td>https://services1.arcgis.com/Hp6G80Pky0om7QvQ/...</td>\n    </tr>\n    <tr>\n      <th>3</th>\n      <td>US</td>\n      <td>AK</td>\n      <td>Alaska</td>\n      <td>anchorage</td>\n      <td>63.588753</td>\n      <td>-154.493062</td>\n      <td>ICU</td>\n      <td>1000HAB</td>\n      <td>0.244782</td>\n      <td>298225</td>\n      <td>2019</td>\n      <td>khn</td>\n      <td>https://khn.org/news/as-coronavirus-spreads-wi...</td>\n    </tr>\n    <tr>\n      <th>4</th>\n      <td>US</td>\n      <td>AK</td>\n      <td>Alaska</td>\n      <td>anchorage</td>\n      <td>63.588753</td>\n      <td>-154.493062</td>\n      <td>OTHER</td>\n      <td>1000HAB</td>\n      <td>0.191131</td>\n      <td>298225</td>\n      <td>2019</td>\n      <td>arcgis</td>\n      <td>https://services1.arcgis.com/Hp6G80Pky0om7QvQ/...</td>\n    </tr>\n  </tbody>\n</table>\n</div>"
     },
     "metadata": {},
     "execution_count": 2
    }
   ],
   "source": [
    "hospital_beds_file = \"hospital_beds_USA_v1.csv\"\n",
    "hospital_beds_df = pd.read_csv(hospital_beds_file)\n",
    "hospital_beds_df.head()"
   ]
  },
  {
   "cell_type": "code",
   "execution_count": 3,
   "metadata": {},
   "outputs": [
    {
     "output_type": "execute_result",
     "data": {
      "text/plain": "  state State Name          county   type      beds  population\n0    AK     Alaska  aleutians east    ICU  0.000000        3338\n1    AK     Alaska  aleutians west    ICU  0.000000        5784\n2    AK     Alaska       anchorage  ACUTE  2.182916      298225\n3    AK     Alaska       anchorage    ICU  0.244782      298225\n4    AK     Alaska       anchorage  OTHER  0.191131      298225",
      "text/html": "<div>\n<style scoped>\n    .dataframe tbody tr th:only-of-type {\n        vertical-align: middle;\n    }\n\n    .dataframe tbody tr th {\n        vertical-align: top;\n    }\n\n    .dataframe thead th {\n        text-align: right;\n    }\n</style>\n<table border=\"1\" class=\"dataframe\">\n  <thead>\n    <tr style=\"text-align: right;\">\n      <th></th>\n      <th>state</th>\n      <th>State Name</th>\n      <th>county</th>\n      <th>type</th>\n      <th>beds</th>\n      <th>population</th>\n    </tr>\n  </thead>\n  <tbody>\n    <tr>\n      <th>0</th>\n      <td>AK</td>\n      <td>Alaska</td>\n      <td>aleutians east</td>\n      <td>ICU</td>\n      <td>0.000000</td>\n      <td>3338</td>\n    </tr>\n    <tr>\n      <th>1</th>\n      <td>AK</td>\n      <td>Alaska</td>\n      <td>aleutians west</td>\n      <td>ICU</td>\n      <td>0.000000</td>\n      <td>5784</td>\n    </tr>\n    <tr>\n      <th>2</th>\n      <td>AK</td>\n      <td>Alaska</td>\n      <td>anchorage</td>\n      <td>ACUTE</td>\n      <td>2.182916</td>\n      <td>298225</td>\n    </tr>\n    <tr>\n      <th>3</th>\n      <td>AK</td>\n      <td>Alaska</td>\n      <td>anchorage</td>\n      <td>ICU</td>\n      <td>0.244782</td>\n      <td>298225</td>\n    </tr>\n    <tr>\n      <th>4</th>\n      <td>AK</td>\n      <td>Alaska</td>\n      <td>anchorage</td>\n      <td>OTHER</td>\n      <td>0.191131</td>\n      <td>298225</td>\n    </tr>\n  </tbody>\n</table>\n</div>"
     },
     "metadata": {},
     "execution_count": 3
    }
   ],
   "source": [
    "hospital_beds_df=hospital_beds_df[['state', 'State Name', 'county', 'type', 'beds', 'population']]\n",
    "hospital_beds_df.head()"
   ]
  },
  {
   "cell_type": "code",
   "execution_count": 4,
   "metadata": {},
   "outputs": [
    {
     "output_type": "execute_result",
     "data": {
      "text/plain": "        date     county state  State Name     fips  cases  deaths\n0  1/21/2020  Snohomish    WA  Washington  53061.0      1       0\n1  1/22/2020  Snohomish    WA  Washington  53061.0      1       0\n2  1/23/2020  Snohomish    WA  Washington  53061.0      1       0\n3  1/24/2020       Cook    IL    Illinois  17031.0      1       0\n4  1/24/2020  Snohomish    WA  Washington  53061.0      1       0",
      "text/html": "<div>\n<style scoped>\n    .dataframe tbody tr th:only-of-type {\n        vertical-align: middle;\n    }\n\n    .dataframe tbody tr th {\n        vertical-align: top;\n    }\n\n    .dataframe thead th {\n        text-align: right;\n    }\n</style>\n<table border=\"1\" class=\"dataframe\">\n  <thead>\n    <tr style=\"text-align: right;\">\n      <th></th>\n      <th>date</th>\n      <th>county</th>\n      <th>state</th>\n      <th>State Name</th>\n      <th>fips</th>\n      <th>cases</th>\n      <th>deaths</th>\n    </tr>\n  </thead>\n  <tbody>\n    <tr>\n      <th>0</th>\n      <td>1/21/2020</td>\n      <td>Snohomish</td>\n      <td>WA</td>\n      <td>Washington</td>\n      <td>53061.0</td>\n      <td>1</td>\n      <td>0</td>\n    </tr>\n    <tr>\n      <th>1</th>\n      <td>1/22/2020</td>\n      <td>Snohomish</td>\n      <td>WA</td>\n      <td>Washington</td>\n      <td>53061.0</td>\n      <td>1</td>\n      <td>0</td>\n    </tr>\n    <tr>\n      <th>2</th>\n      <td>1/23/2020</td>\n      <td>Snohomish</td>\n      <td>WA</td>\n      <td>Washington</td>\n      <td>53061.0</td>\n      <td>1</td>\n      <td>0</td>\n    </tr>\n    <tr>\n      <th>3</th>\n      <td>1/24/2020</td>\n      <td>Cook</td>\n      <td>IL</td>\n      <td>Illinois</td>\n      <td>17031.0</td>\n      <td>1</td>\n      <td>0</td>\n    </tr>\n    <tr>\n      <th>4</th>\n      <td>1/24/2020</td>\n      <td>Snohomish</td>\n      <td>WA</td>\n      <td>Washington</td>\n      <td>53061.0</td>\n      <td>1</td>\n      <td>0</td>\n    </tr>\n  </tbody>\n</table>\n</div>"
     },
     "metadata": {},
     "execution_count": 4
    }
   ],
   "source": [
    "covid_counties_file = \"us_counties_covid19_daily.csv\"\n",
    "covid_counties_df = pd.read_csv(covid_counties_file)\n",
    "covid_counties_df.head()"
   ]
  },
  {
   "cell_type": "code",
   "execution_count": 5,
   "metadata": {},
   "outputs": [
    {
     "output_type": "execute_result",
     "data": {
      "text/plain": "       date state  positive  negative  pending  hospitalizedCurrently  \\\n0  20200628    AK     883.0  107417.0      NaN                   12.0   \n1  20200628    AL   35441.0  350839.0      NaN                  655.0   \n2  20200628    AR   19310.0  271912.0      NaN                  278.0   \n3  20200628    AS       0.0     696.0      NaN                    NaN   \n4  20200628    AZ   73908.0  435988.0      NaN                 2691.0   \n\n   hospitalizedCumulative  inIcuCurrently  inIcuCumulative  \\\n0                     NaN             NaN              NaN   \n1                  2703.0             NaN            790.0   \n2                  1373.0             NaN              NaN   \n3                     NaN             NaN              NaN   \n4                  4617.0           666.0              NaN   \n\n   onVentilatorCurrently  ...  posNeg  deathIncrease hospitalizedIncrease  \\\n0                    1.0  ...  108300              0                    0   \n1                    NaN  ...  386280              0                    6   \n2                   63.0  ...  291222             10                   36   \n3                    NaN  ...     696              0                    0   \n4                  475.0  ...  509896              9                   22   \n\n                                       hash commercialScore  \\\n0  61f0e987f53033504c83b57eba92ca6b8301f82f               0   \n1  e77ed44903fbc89d23369bddb764747fb22c1846               0   \n2  cf7dc4fed80d9e5f146805466ac46a86be03500e               0   \n3  bc0c828812911b6e21564bbad527eb4166b21808               0   \n4  73307373c5264afa2c0253610ab1260dbbdbec76               0   \n\n  negativeRegularScore  negativeScore  positiveScore score  grade  \n0                    0              0              0     0    NaN  \n1                    0              0              0     0    NaN  \n2                    0              0              0     0    NaN  \n3                    0              0              0     0    NaN  \n4                    0              0              0     0    NaN  \n\n[5 rows x 39 columns]",
      "text/html": "<div>\n<style scoped>\n    .dataframe tbody tr th:only-of-type {\n        vertical-align: middle;\n    }\n\n    .dataframe tbody tr th {\n        vertical-align: top;\n    }\n\n    .dataframe thead th {\n        text-align: right;\n    }\n</style>\n<table border=\"1\" class=\"dataframe\">\n  <thead>\n    <tr style=\"text-align: right;\">\n      <th></th>\n      <th>date</th>\n      <th>state</th>\n      <th>positive</th>\n      <th>negative</th>\n      <th>pending</th>\n      <th>hospitalizedCurrently</th>\n      <th>hospitalizedCumulative</th>\n      <th>inIcuCurrently</th>\n      <th>inIcuCumulative</th>\n      <th>onVentilatorCurrently</th>\n      <th>...</th>\n      <th>posNeg</th>\n      <th>deathIncrease</th>\n      <th>hospitalizedIncrease</th>\n      <th>hash</th>\n      <th>commercialScore</th>\n      <th>negativeRegularScore</th>\n      <th>negativeScore</th>\n      <th>positiveScore</th>\n      <th>score</th>\n      <th>grade</th>\n    </tr>\n  </thead>\n  <tbody>\n    <tr>\n      <th>0</th>\n      <td>20200628</td>\n      <td>AK</td>\n      <td>883.0</td>\n      <td>107417.0</td>\n      <td>NaN</td>\n      <td>12.0</td>\n      <td>NaN</td>\n      <td>NaN</td>\n      <td>NaN</td>\n      <td>1.0</td>\n      <td>...</td>\n      <td>108300</td>\n      <td>0</td>\n      <td>0</td>\n      <td>61f0e987f53033504c83b57eba92ca6b8301f82f</td>\n      <td>0</td>\n      <td>0</td>\n      <td>0</td>\n      <td>0</td>\n      <td>0</td>\n      <td>NaN</td>\n    </tr>\n    <tr>\n      <th>1</th>\n      <td>20200628</td>\n      <td>AL</td>\n      <td>35441.0</td>\n      <td>350839.0</td>\n      <td>NaN</td>\n      <td>655.0</td>\n      <td>2703.0</td>\n      <td>NaN</td>\n      <td>790.0</td>\n      <td>NaN</td>\n      <td>...</td>\n      <td>386280</td>\n      <td>0</td>\n      <td>6</td>\n      <td>e77ed44903fbc89d23369bddb764747fb22c1846</td>\n      <td>0</td>\n      <td>0</td>\n      <td>0</td>\n      <td>0</td>\n      <td>0</td>\n      <td>NaN</td>\n    </tr>\n    <tr>\n      <th>2</th>\n      <td>20200628</td>\n      <td>AR</td>\n      <td>19310.0</td>\n      <td>271912.0</td>\n      <td>NaN</td>\n      <td>278.0</td>\n      <td>1373.0</td>\n      <td>NaN</td>\n      <td>NaN</td>\n      <td>63.0</td>\n      <td>...</td>\n      <td>291222</td>\n      <td>10</td>\n      <td>36</td>\n      <td>cf7dc4fed80d9e5f146805466ac46a86be03500e</td>\n      <td>0</td>\n      <td>0</td>\n      <td>0</td>\n      <td>0</td>\n      <td>0</td>\n      <td>NaN</td>\n    </tr>\n    <tr>\n      <th>3</th>\n      <td>20200628</td>\n      <td>AS</td>\n      <td>0.0</td>\n      <td>696.0</td>\n      <td>NaN</td>\n      <td>NaN</td>\n      <td>NaN</td>\n      <td>NaN</td>\n      <td>NaN</td>\n      <td>NaN</td>\n      <td>...</td>\n      <td>696</td>\n      <td>0</td>\n      <td>0</td>\n      <td>bc0c828812911b6e21564bbad527eb4166b21808</td>\n      <td>0</td>\n      <td>0</td>\n      <td>0</td>\n      <td>0</td>\n      <td>0</td>\n      <td>NaN</td>\n    </tr>\n    <tr>\n      <th>4</th>\n      <td>20200628</td>\n      <td>AZ</td>\n      <td>73908.0</td>\n      <td>435988.0</td>\n      <td>NaN</td>\n      <td>2691.0</td>\n      <td>4617.0</td>\n      <td>666.0</td>\n      <td>NaN</td>\n      <td>475.0</td>\n      <td>...</td>\n      <td>509896</td>\n      <td>9</td>\n      <td>22</td>\n      <td>73307373c5264afa2c0253610ab1260dbbdbec76</td>\n      <td>0</td>\n      <td>0</td>\n      <td>0</td>\n      <td>0</td>\n      <td>0</td>\n      <td>NaN</td>\n    </tr>\n  </tbody>\n</table>\n<p>5 rows × 39 columns</p>\n</div>"
     },
     "metadata": {},
     "execution_count": 5
    }
   ],
   "source": [
    "covid_states_file = \"us_states_covid19_daily.csv\"\n",
    "covid_states_df = pd.read_csv(covid_states_file)\n",
    "covid_states_df.head()"
   ]
  },
  {
   "cell_type": "code",
   "execution_count": 6,
   "metadata": {},
   "outputs": [
    {
     "output_type": "execute_result",
     "data": {
      "text/plain": "       date state  positive  negative  pending  hospitalizedCurrently  \\\n0  20200628    AK     883.0  107417.0      NaN                   12.0   \n1  20200628    AL   35441.0  350839.0      NaN                  655.0   \n2  20200628    AR   19310.0  271912.0      NaN                  278.0   \n3  20200628    AS       0.0     696.0      NaN                    NaN   \n4  20200628    AZ   73908.0  435988.0      NaN                 2691.0   \n\n   hospitalizedCumulative  inIcuCurrently  inIcuCumulative  \\\n0                     NaN             NaN              NaN   \n1                  2703.0             NaN            790.0   \n2                  1373.0             NaN              NaN   \n3                     NaN             NaN              NaN   \n4                  4617.0           666.0              NaN   \n\n   onVentilatorCurrently  ...  negativeTestsViral  positiveCasesViral  \\\n0                    1.0  ...                 NaN                 NaN   \n1                    NaN  ...                 NaN             34964.0   \n2                   63.0  ...                 NaN             19310.0   \n3                    NaN  ...                 NaN                 NaN   \n4                  475.0  ...                 NaN             73497.0   \n\n   positiveIncrease  negativeIncrease   total  totalTestResults  \\\n0                29              2690  108300            108300   \n1               358              1896  386280            386280   \n2               570              6687  291222            291222   \n3                 0                 0     696               696   \n4              3857             11292  509896            509896   \n\n   totalTestResultsIncrease  posNeg  deathIncrease  hospitalizedIncrease  \n0                      2719  108300              0                     0  \n1                      2254  386280              0                     6  \n2                      7257  291222             10                    36  \n3                         0     696              0                     0  \n4                     15149  509896              9                    22  \n\n[5 rows x 26 columns]",
      "text/html": "<div>\n<style scoped>\n    .dataframe tbody tr th:only-of-type {\n        vertical-align: middle;\n    }\n\n    .dataframe tbody tr th {\n        vertical-align: top;\n    }\n\n    .dataframe thead th {\n        text-align: right;\n    }\n</style>\n<table border=\"1\" class=\"dataframe\">\n  <thead>\n    <tr style=\"text-align: right;\">\n      <th></th>\n      <th>date</th>\n      <th>state</th>\n      <th>positive</th>\n      <th>negative</th>\n      <th>pending</th>\n      <th>hospitalizedCurrently</th>\n      <th>hospitalizedCumulative</th>\n      <th>inIcuCurrently</th>\n      <th>inIcuCumulative</th>\n      <th>onVentilatorCurrently</th>\n      <th>...</th>\n      <th>negativeTestsViral</th>\n      <th>positiveCasesViral</th>\n      <th>positiveIncrease</th>\n      <th>negativeIncrease</th>\n      <th>total</th>\n      <th>totalTestResults</th>\n      <th>totalTestResultsIncrease</th>\n      <th>posNeg</th>\n      <th>deathIncrease</th>\n      <th>hospitalizedIncrease</th>\n    </tr>\n  </thead>\n  <tbody>\n    <tr>\n      <th>0</th>\n      <td>20200628</td>\n      <td>AK</td>\n      <td>883.0</td>\n      <td>107417.0</td>\n      <td>NaN</td>\n      <td>12.0</td>\n      <td>NaN</td>\n      <td>NaN</td>\n      <td>NaN</td>\n      <td>1.0</td>\n      <td>...</td>\n      <td>NaN</td>\n      <td>NaN</td>\n      <td>29</td>\n      <td>2690</td>\n      <td>108300</td>\n      <td>108300</td>\n      <td>2719</td>\n      <td>108300</td>\n      <td>0</td>\n      <td>0</td>\n    </tr>\n    <tr>\n      <th>1</th>\n      <td>20200628</td>\n      <td>AL</td>\n      <td>35441.0</td>\n      <td>350839.0</td>\n      <td>NaN</td>\n      <td>655.0</td>\n      <td>2703.0</td>\n      <td>NaN</td>\n      <td>790.0</td>\n      <td>NaN</td>\n      <td>...</td>\n      <td>NaN</td>\n      <td>34964.0</td>\n      <td>358</td>\n      <td>1896</td>\n      <td>386280</td>\n      <td>386280</td>\n      <td>2254</td>\n      <td>386280</td>\n      <td>0</td>\n      <td>6</td>\n    </tr>\n    <tr>\n      <th>2</th>\n      <td>20200628</td>\n      <td>AR</td>\n      <td>19310.0</td>\n      <td>271912.0</td>\n      <td>NaN</td>\n      <td>278.0</td>\n      <td>1373.0</td>\n      <td>NaN</td>\n      <td>NaN</td>\n      <td>63.0</td>\n      <td>...</td>\n      <td>NaN</td>\n      <td>19310.0</td>\n      <td>570</td>\n      <td>6687</td>\n      <td>291222</td>\n      <td>291222</td>\n      <td>7257</td>\n      <td>291222</td>\n      <td>10</td>\n      <td>36</td>\n    </tr>\n    <tr>\n      <th>3</th>\n      <td>20200628</td>\n      <td>AS</td>\n      <td>0.0</td>\n      <td>696.0</td>\n      <td>NaN</td>\n      <td>NaN</td>\n      <td>NaN</td>\n      <td>NaN</td>\n      <td>NaN</td>\n      <td>NaN</td>\n      <td>...</td>\n      <td>NaN</td>\n      <td>NaN</td>\n      <td>0</td>\n      <td>0</td>\n      <td>696</td>\n      <td>696</td>\n      <td>0</td>\n      <td>696</td>\n      <td>0</td>\n      <td>0</td>\n    </tr>\n    <tr>\n      <th>4</th>\n      <td>20200628</td>\n      <td>AZ</td>\n      <td>73908.0</td>\n      <td>435988.0</td>\n      <td>NaN</td>\n      <td>2691.0</td>\n      <td>4617.0</td>\n      <td>666.0</td>\n      <td>NaN</td>\n      <td>475.0</td>\n      <td>...</td>\n      <td>NaN</td>\n      <td>73497.0</td>\n      <td>3857</td>\n      <td>11292</td>\n      <td>509896</td>\n      <td>509896</td>\n      <td>15149</td>\n      <td>509896</td>\n      <td>9</td>\n      <td>22</td>\n    </tr>\n  </tbody>\n</table>\n<p>5 rows × 26 columns</p>\n</div>"
     },
     "metadata": {},
     "execution_count": 6
    }
   ],
   "source": [
    "covid_states_df = covid_states_df[['date', 'state', 'positive', 'negative', 'pending','hospitalizedCurrently', \n",
    "                                   'hospitalizedCumulative', 'inIcuCurrently', 'inIcuCumulative', 'onVentilatorCurrently',\n",
    "                                   'onVentilatorCumulative', 'recovered', 'death', 'hospitalized', 'totalTestsViral',\n",
    "                                   'positiveTestsViral', 'negativeTestsViral', 'positiveCasesViral', 'positiveIncrease', \n",
    "                                   'negativeIncrease', 'total', 'totalTestResults', 'totalTestResultsIncrease', 'posNeg', \n",
    "                                   'deathIncrease', 'hospitalizedIncrease']]\n",
    "covid_states_df.head()"
   ]
  },
  {
   "cell_type": "code",
   "execution_count": 7,
   "metadata": {},
   "outputs": [
    {
     "output_type": "execute_result",
     "data": {
      "text/plain": "                  beds  population\nState Name                        \nAlabama     213.257766    14541595\nAlaska       28.986550     1934670\nArizona      27.209210    24673886\nArkansas    192.144910     7324935\nCalifornia  173.787152   142663025",
      "text/html": "<div>\n<style scoped>\n    .dataframe tbody tr th:only-of-type {\n        vertical-align: middle;\n    }\n\n    .dataframe tbody tr th {\n        vertical-align: top;\n    }\n\n    .dataframe thead th {\n        text-align: right;\n    }\n</style>\n<table border=\"1\" class=\"dataframe\">\n  <thead>\n    <tr style=\"text-align: right;\">\n      <th></th>\n      <th>beds</th>\n      <th>population</th>\n    </tr>\n    <tr>\n      <th>State Name</th>\n      <th></th>\n      <th></th>\n    </tr>\n  </thead>\n  <tbody>\n    <tr>\n      <th>Alabama</th>\n      <td>213.257766</td>\n      <td>14541595</td>\n    </tr>\n    <tr>\n      <th>Alaska</th>\n      <td>28.986550</td>\n      <td>1934670</td>\n    </tr>\n    <tr>\n      <th>Arizona</th>\n      <td>27.209210</td>\n      <td>24673886</td>\n    </tr>\n    <tr>\n      <th>Arkansas</th>\n      <td>192.144910</td>\n      <td>7324935</td>\n    </tr>\n    <tr>\n      <th>California</th>\n      <td>173.787152</td>\n      <td>142663025</td>\n    </tr>\n  </tbody>\n</table>\n</div>"
     },
     "metadata": {},
     "execution_count": 7
    }
   ],
   "source": [
    "\n",
    "state_hospital_beds_df = hospital_beds_df.groupby('State Name').sum()\n",
    "state_hospital_beds_df.head()"
   ]
  },
  {
   "cell_type": "code",
   "execution_count": 9,
   "metadata": {},
   "outputs": [
    {
     "output_type": "execute_result",
     "data": {
      "text/plain": "     date_y     county  State Name state     fips\n0  20200628  Snohomish  Washington    WA  53061.0\n1  20200627  Snohomish  Washington    WA  53061.0\n2  20200626  Snohomish  Washington    WA  53061.0\n3  20200625  Snohomish  Washington    WA  53061.0\n4  20200624  Snohomish  Washington    WA  53061.0",
      "text/html": "<div>\n<style scoped>\n    .dataframe tbody tr th:only-of-type {\n        vertical-align: middle;\n    }\n\n    .dataframe tbody tr th {\n        vertical-align: top;\n    }\n\n    .dataframe thead th {\n        text-align: right;\n    }\n</style>\n<table border=\"1\" class=\"dataframe\">\n  <thead>\n    <tr style=\"text-align: right;\">\n      <th></th>\n      <th>date_y</th>\n      <th>county</th>\n      <th>State Name</th>\n      <th>state</th>\n      <th>fips</th>\n    </tr>\n  </thead>\n  <tbody>\n    <tr>\n      <th>0</th>\n      <td>20200628</td>\n      <td>Snohomish</td>\n      <td>Washington</td>\n      <td>WA</td>\n      <td>53061.0</td>\n    </tr>\n    <tr>\n      <th>1</th>\n      <td>20200627</td>\n      <td>Snohomish</td>\n      <td>Washington</td>\n      <td>WA</td>\n      <td>53061.0</td>\n    </tr>\n    <tr>\n      <th>2</th>\n      <td>20200626</td>\n      <td>Snohomish</td>\n      <td>Washington</td>\n      <td>WA</td>\n      <td>53061.0</td>\n    </tr>\n    <tr>\n      <th>3</th>\n      <td>20200625</td>\n      <td>Snohomish</td>\n      <td>Washington</td>\n      <td>WA</td>\n      <td>53061.0</td>\n    </tr>\n    <tr>\n      <th>4</th>\n      <td>20200624</td>\n      <td>Snohomish</td>\n      <td>Washington</td>\n      <td>WA</td>\n      <td>53061.0</td>\n    </tr>\n  </tbody>\n</table>\n</div>"
     },
     "metadata": {},
     "execution_count": 9
    }
   ],
   "source": [
    "locations_df = pd.merge(covid_counties_df, covid_states_df, on='state')\n",
    "locations_df = locations_df[['date_y', 'county', 'State Name', 'state', 'fips']]\n",
    "locations_df.head()"
   ]
  },
  {
   "cell_type": "code",
   "execution_count": 10,
   "metadata": {},
   "outputs": [
    {
     "output_type": "execute_result",
     "data": {
      "text/plain": "       date     county  State Name state     fips\n0  20200628  Snohomish  Washington    WA  53061.0\n1  20200627  Snohomish  Washington    WA  53061.0\n2  20200626  Snohomish  Washington    WA  53061.0\n3  20200625  Snohomish  Washington    WA  53061.0\n4  20200624  Snohomish  Washington    WA  53061.0",
      "text/html": "<div>\n<style scoped>\n    .dataframe tbody tr th:only-of-type {\n        vertical-align: middle;\n    }\n\n    .dataframe tbody tr th {\n        vertical-align: top;\n    }\n\n    .dataframe thead th {\n        text-align: right;\n    }\n</style>\n<table border=\"1\" class=\"dataframe\">\n  <thead>\n    <tr style=\"text-align: right;\">\n      <th></th>\n      <th>date</th>\n      <th>county</th>\n      <th>State Name</th>\n      <th>state</th>\n      <th>fips</th>\n    </tr>\n  </thead>\n  <tbody>\n    <tr>\n      <th>0</th>\n      <td>20200628</td>\n      <td>Snohomish</td>\n      <td>Washington</td>\n      <td>WA</td>\n      <td>53061.0</td>\n    </tr>\n    <tr>\n      <th>1</th>\n      <td>20200627</td>\n      <td>Snohomish</td>\n      <td>Washington</td>\n      <td>WA</td>\n      <td>53061.0</td>\n    </tr>\n    <tr>\n      <th>2</th>\n      <td>20200626</td>\n      <td>Snohomish</td>\n      <td>Washington</td>\n      <td>WA</td>\n      <td>53061.0</td>\n    </tr>\n    <tr>\n      <th>3</th>\n      <td>20200625</td>\n      <td>Snohomish</td>\n      <td>Washington</td>\n      <td>WA</td>\n      <td>53061.0</td>\n    </tr>\n    <tr>\n      <th>4</th>\n      <td>20200624</td>\n      <td>Snohomish</td>\n      <td>Washington</td>\n      <td>WA</td>\n      <td>53061.0</td>\n    </tr>\n  </tbody>\n</table>\n</div>"
     },
     "metadata": {},
     "execution_count": 10
    }
   ],
   "source": [
    "locations_df.rename(columns={\"date_y\": \"date\"}, inplace=True)\n",
    "locations_df.head()"
   ]
  },
  {
   "cell_type": "code",
   "execution_count": 16,
   "metadata": {},
   "outputs": [
    {
     "output_type": "execute_result",
     "data": {
      "text/plain": "      county       state      date  positive  negative  pending  \\\n0  Snohomish  Washington  20200628   31404.0  494398.0      NaN   \n1  Snohomish  Washington  20200627   30855.0  483573.0      NaN   \n2  Snohomish  Washington  20200626   30367.0  475428.0      NaN   \n3  Snohomish  Washington  20200625   29869.0  465629.0      NaN   \n4  Snohomish  Washington  20200624   29386.0  457673.0      NaN   \n\n   pos_cases_viral  hospitalized  recovered  deaths  \n0          31404.0         304.0        NaN  1310.0  \n1          30855.0         305.0        NaN  1304.0  \n2          30367.0         272.0        NaN  1300.0  \n3          29869.0         304.0        NaN  1293.0  \n4          29386.0         234.0        NaN  1284.0  ",
      "text/html": "<div>\n<style scoped>\n    .dataframe tbody tr th:only-of-type {\n        vertical-align: middle;\n    }\n\n    .dataframe tbody tr th {\n        vertical-align: top;\n    }\n\n    .dataframe thead th {\n        text-align: right;\n    }\n</style>\n<table border=\"1\" class=\"dataframe\">\n  <thead>\n    <tr style=\"text-align: right;\">\n      <th></th>\n      <th>county</th>\n      <th>state</th>\n      <th>date</th>\n      <th>positive</th>\n      <th>negative</th>\n      <th>pending</th>\n      <th>pos_cases_viral</th>\n      <th>hospitalized</th>\n      <th>recovered</th>\n      <th>deaths</th>\n    </tr>\n  </thead>\n  <tbody>\n    <tr>\n      <th>0</th>\n      <td>Snohomish</td>\n      <td>Washington</td>\n      <td>20200628</td>\n      <td>31404.0</td>\n      <td>494398.0</td>\n      <td>NaN</td>\n      <td>31404.0</td>\n      <td>304.0</td>\n      <td>NaN</td>\n      <td>1310.0</td>\n    </tr>\n    <tr>\n      <th>1</th>\n      <td>Snohomish</td>\n      <td>Washington</td>\n      <td>20200627</td>\n      <td>30855.0</td>\n      <td>483573.0</td>\n      <td>NaN</td>\n      <td>30855.0</td>\n      <td>305.0</td>\n      <td>NaN</td>\n      <td>1304.0</td>\n    </tr>\n    <tr>\n      <th>2</th>\n      <td>Snohomish</td>\n      <td>Washington</td>\n      <td>20200626</td>\n      <td>30367.0</td>\n      <td>475428.0</td>\n      <td>NaN</td>\n      <td>30367.0</td>\n      <td>272.0</td>\n      <td>NaN</td>\n      <td>1300.0</td>\n    </tr>\n    <tr>\n      <th>3</th>\n      <td>Snohomish</td>\n      <td>Washington</td>\n      <td>20200625</td>\n      <td>29869.0</td>\n      <td>465629.0</td>\n      <td>NaN</td>\n      <td>29869.0</td>\n      <td>304.0</td>\n      <td>NaN</td>\n      <td>1293.0</td>\n    </tr>\n    <tr>\n      <th>4</th>\n      <td>Snohomish</td>\n      <td>Washington</td>\n      <td>20200624</td>\n      <td>29386.0</td>\n      <td>457673.0</td>\n      <td>NaN</td>\n      <td>29386.0</td>\n      <td>234.0</td>\n      <td>NaN</td>\n      <td>1284.0</td>\n    </tr>\n  </tbody>\n</table>\n</div>"
     },
     "metadata": {},
     "execution_count": 16
    }
   ],
   "source": [
    "cases_df = pd.merge(covid_counties_df, covid_states_df, on='state')\n",
    "cases_df = cases_df[['county', 'State Name', 'date_y', 'positive','negative','pending','positiveCasesViral','hospitalizedCurrently','recovered','death']]\n",
    "cases_df.rename(columns={\"date_y\": \"date\",'State Name':'state','positiveCasesViral':'pos_cases_viral','hospitalizedCurrently':'hospitalized','death':'deaths'}, inplace=True)\n",
    "cases_df.head()"
   ]
  },
  {
   "cell_type": "code",
   "execution_count": 10,
   "metadata": {},
   "outputs": [
    {
     "output_type": "execute_result",
     "data": {
      "text/plain": "           county   state      date  num_beds bed_type  population\n0  aleutians east  Alaska  20200628       0.0      ICU        3338\n1  aleutians east  Alaska  20200627       0.0      ICU        3338\n2  aleutians east  Alaska  20200626       0.0      ICU        3338\n3  aleutians east  Alaska  20200625       0.0      ICU        3338\n4  aleutians east  Alaska  20200624       0.0      ICU        3338",
      "text/html": "<div>\n<style scoped>\n    .dataframe tbody tr th:only-of-type {\n        vertical-align: middle;\n    }\n\n    .dataframe tbody tr th {\n        vertical-align: top;\n    }\n\n    .dataframe thead th {\n        text-align: right;\n    }\n</style>\n<table border=\"1\" class=\"dataframe\">\n  <thead>\n    <tr style=\"text-align: right;\">\n      <th></th>\n      <th>county</th>\n      <th>state</th>\n      <th>date</th>\n      <th>num_beds</th>\n      <th>bed_type</th>\n      <th>population</th>\n    </tr>\n  </thead>\n  <tbody>\n    <tr>\n      <th>0</th>\n      <td>aleutians east</td>\n      <td>Alaska</td>\n      <td>20200628</td>\n      <td>0.0</td>\n      <td>ICU</td>\n      <td>3338</td>\n    </tr>\n    <tr>\n      <th>1</th>\n      <td>aleutians east</td>\n      <td>Alaska</td>\n      <td>20200627</td>\n      <td>0.0</td>\n      <td>ICU</td>\n      <td>3338</td>\n    </tr>\n    <tr>\n      <th>2</th>\n      <td>aleutians east</td>\n      <td>Alaska</td>\n      <td>20200626</td>\n      <td>0.0</td>\n      <td>ICU</td>\n      <td>3338</td>\n    </tr>\n    <tr>\n      <th>3</th>\n      <td>aleutians east</td>\n      <td>Alaska</td>\n      <td>20200625</td>\n      <td>0.0</td>\n      <td>ICU</td>\n      <td>3338</td>\n    </tr>\n    <tr>\n      <th>4</th>\n      <td>aleutians east</td>\n      <td>Alaska</td>\n      <td>20200624</td>\n      <td>0.0</td>\n      <td>ICU</td>\n      <td>3338</td>\n    </tr>\n  </tbody>\n</table>\n</div>"
     },
     "metadata": {},
     "execution_count": 10
    }
   ],
   "source": [
    "avail_hospital_beds_df = pd.merge(hospital_beds_df, covid_states_df, on='state')\n",
    "avail_hospital_beds_df = avail_hospital_beds_df[['county', 'State Name', 'date', 'beds','type','population']]\n",
    "avail_hospital_beds_df.rename(columns={'State Name':'state','beds':'num_beds','type':'bed_type'}, inplace=True)\n",
    "avail_hospital_beds_df.head()"
   ]
  },
  {
   "cell_type": "code",
   "execution_count": 13,
   "metadata": {},
   "outputs": [],
   "source": [
    "connection_string = \"postgres:@bby@localhost:5432/covid_db\"\n",
    "engine = create_engine(f'postgresql://{connection_string}')\n",
    "connection = engine.connect()\n",
    "session = Session(bind=connection)\n"
   ]
  },
  {
   "cell_type": "code",
   "execution_count": 17,
   "metadata": {},
   "outputs": [
    {
     "output_type": "error",
     "ename": "KeyboardInterrupt",
     "evalue": "",
     "traceback": [
      "\u001b[0;31m---------------------------------------------------------------------------\u001b[0m",
      "\u001b[0;31mKeyboardInterrupt\u001b[0m                         Traceback (most recent call last)",
      "\u001b[0;32m<ipython-input-17-ec279054a3ba>\u001b[0m in \u001b[0;36m<module>\u001b[0;34m\u001b[0m\n\u001b[1;32m      3\u001b[0m     \u001b[0mcon\u001b[0m\u001b[0;34m=\u001b[0m\u001b[0mengine\u001b[0m\u001b[0;34m,\u001b[0m\u001b[0;34m\u001b[0m\u001b[0;34m\u001b[0m\u001b[0m\n\u001b[1;32m      4\u001b[0m     \u001b[0mindex\u001b[0m\u001b[0;34m=\u001b[0m\u001b[0;32mTrue\u001b[0m\u001b[0;34m,\u001b[0m\u001b[0;34m\u001b[0m\u001b[0;34m\u001b[0m\u001b[0m\n\u001b[0;32m----> 5\u001b[0;31m     \u001b[0mif_exists\u001b[0m\u001b[0;34m=\u001b[0m\u001b[0;34m'append'\u001b[0m\u001b[0;34m\u001b[0m\u001b[0;34m\u001b[0m\u001b[0m\n\u001b[0m\u001b[1;32m      6\u001b[0m )\n",
      "\u001b[0;32m~/anaconda3/envs/py35/lib/python3.7/site-packages/pandas/core/generic.py\u001b[0m in \u001b[0;36mto_sql\u001b[0;34m(self, name, con, schema, if_exists, index, index_label, chunksize, dtype, method)\u001b[0m\n\u001b[1;32m   2661\u001b[0m             \u001b[0mchunksize\u001b[0m\u001b[0;34m=\u001b[0m\u001b[0mchunksize\u001b[0m\u001b[0;34m,\u001b[0m\u001b[0;34m\u001b[0m\u001b[0;34m\u001b[0m\u001b[0m\n\u001b[1;32m   2662\u001b[0m             \u001b[0mdtype\u001b[0m\u001b[0;34m=\u001b[0m\u001b[0mdtype\u001b[0m\u001b[0;34m,\u001b[0m\u001b[0;34m\u001b[0m\u001b[0;34m\u001b[0m\u001b[0m\n\u001b[0;32m-> 2663\u001b[0;31m             \u001b[0mmethod\u001b[0m\u001b[0;34m=\u001b[0m\u001b[0mmethod\u001b[0m\u001b[0;34m,\u001b[0m\u001b[0;34m\u001b[0m\u001b[0;34m\u001b[0m\u001b[0m\n\u001b[0m\u001b[1;32m   2664\u001b[0m         )\n\u001b[1;32m   2665\u001b[0m \u001b[0;34m\u001b[0m\u001b[0m\n",
      "\u001b[0;32m~/anaconda3/envs/py35/lib/python3.7/site-packages/pandas/io/sql.py\u001b[0m in \u001b[0;36mto_sql\u001b[0;34m(frame, name, con, schema, if_exists, index, index_label, chunksize, dtype, method)\u001b[0m\n\u001b[1;32m    519\u001b[0m         \u001b[0mchunksize\u001b[0m\u001b[0;34m=\u001b[0m\u001b[0mchunksize\u001b[0m\u001b[0;34m,\u001b[0m\u001b[0;34m\u001b[0m\u001b[0;34m\u001b[0m\u001b[0m\n\u001b[1;32m    520\u001b[0m         \u001b[0mdtype\u001b[0m\u001b[0;34m=\u001b[0m\u001b[0mdtype\u001b[0m\u001b[0;34m,\u001b[0m\u001b[0;34m\u001b[0m\u001b[0;34m\u001b[0m\u001b[0m\n\u001b[0;32m--> 521\u001b[0;31m         \u001b[0mmethod\u001b[0m\u001b[0;34m=\u001b[0m\u001b[0mmethod\u001b[0m\u001b[0;34m,\u001b[0m\u001b[0;34m\u001b[0m\u001b[0;34m\u001b[0m\u001b[0m\n\u001b[0m\u001b[1;32m    522\u001b[0m     )\n\u001b[1;32m    523\u001b[0m \u001b[0;34m\u001b[0m\u001b[0m\n",
      "\u001b[0;32m~/anaconda3/envs/py35/lib/python3.7/site-packages/pandas/io/sql.py\u001b[0m in \u001b[0;36mto_sql\u001b[0;34m(self, frame, name, if_exists, index, index_label, schema, chunksize, dtype, method)\u001b[0m\n\u001b[1;32m   1315\u001b[0m         )\n\u001b[1;32m   1316\u001b[0m         \u001b[0mtable\u001b[0m\u001b[0;34m.\u001b[0m\u001b[0mcreate\u001b[0m\u001b[0;34m(\u001b[0m\u001b[0;34m)\u001b[0m\u001b[0;34m\u001b[0m\u001b[0;34m\u001b[0m\u001b[0m\n\u001b[0;32m-> 1317\u001b[0;31m         \u001b[0mtable\u001b[0m\u001b[0;34m.\u001b[0m\u001b[0minsert\u001b[0m\u001b[0;34m(\u001b[0m\u001b[0mchunksize\u001b[0m\u001b[0;34m,\u001b[0m \u001b[0mmethod\u001b[0m\u001b[0;34m=\u001b[0m\u001b[0mmethod\u001b[0m\u001b[0;34m)\u001b[0m\u001b[0;34m\u001b[0m\u001b[0;34m\u001b[0m\u001b[0m\n\u001b[0m\u001b[1;32m   1318\u001b[0m         \u001b[0;32mif\u001b[0m \u001b[0;32mnot\u001b[0m \u001b[0mname\u001b[0m\u001b[0;34m.\u001b[0m\u001b[0misdigit\u001b[0m\u001b[0;34m(\u001b[0m\u001b[0;34m)\u001b[0m \u001b[0;32mand\u001b[0m \u001b[0;32mnot\u001b[0m \u001b[0mname\u001b[0m\u001b[0;34m.\u001b[0m\u001b[0mislower\u001b[0m\u001b[0;34m(\u001b[0m\u001b[0;34m)\u001b[0m\u001b[0;34m:\u001b[0m\u001b[0;34m\u001b[0m\u001b[0;34m\u001b[0m\u001b[0m\n\u001b[1;32m   1319\u001b[0m             \u001b[0;31m# check for potentially case sensitivity issues (GH7815)\u001b[0m\u001b[0;34m\u001b[0m\u001b[0;34m\u001b[0m\u001b[0;34m\u001b[0m\u001b[0m\n",
      "\u001b[0;32m~/anaconda3/envs/py35/lib/python3.7/site-packages/pandas/io/sql.py\u001b[0m in \u001b[0;36minsert\u001b[0;34m(self, chunksize, method)\u001b[0m\n\u001b[1;32m    753\u001b[0m \u001b[0;34m\u001b[0m\u001b[0m\n\u001b[1;32m    754\u001b[0m                 \u001b[0mchunk_iter\u001b[0m \u001b[0;34m=\u001b[0m \u001b[0mzip\u001b[0m\u001b[0;34m(\u001b[0m\u001b[0;34m*\u001b[0m\u001b[0;34m[\u001b[0m\u001b[0marr\u001b[0m\u001b[0;34m[\u001b[0m\u001b[0mstart_i\u001b[0m\u001b[0;34m:\u001b[0m\u001b[0mend_i\u001b[0m\u001b[0;34m]\u001b[0m \u001b[0;32mfor\u001b[0m \u001b[0marr\u001b[0m \u001b[0;32min\u001b[0m \u001b[0mdata_list\u001b[0m\u001b[0;34m]\u001b[0m\u001b[0;34m)\u001b[0m\u001b[0;34m\u001b[0m\u001b[0;34m\u001b[0m\u001b[0m\n\u001b[0;32m--> 755\u001b[0;31m                 \u001b[0mexec_insert\u001b[0m\u001b[0;34m(\u001b[0m\u001b[0mconn\u001b[0m\u001b[0;34m,\u001b[0m \u001b[0mkeys\u001b[0m\u001b[0;34m,\u001b[0m \u001b[0mchunk_iter\u001b[0m\u001b[0;34m)\u001b[0m\u001b[0;34m\u001b[0m\u001b[0;34m\u001b[0m\u001b[0m\n\u001b[0m\u001b[1;32m    756\u001b[0m \u001b[0;34m\u001b[0m\u001b[0m\n\u001b[1;32m    757\u001b[0m     def _query_iterator(\n",
      "\u001b[0;32m~/anaconda3/envs/py35/lib/python3.7/site-packages/pandas/io/sql.py\u001b[0m in \u001b[0;36m_execute_insert\u001b[0;34m(self, conn, keys, data_iter)\u001b[0m\n\u001b[1;32m    667\u001b[0m         \"\"\"\n\u001b[1;32m    668\u001b[0m         \u001b[0mdata\u001b[0m \u001b[0;34m=\u001b[0m \u001b[0;34m[\u001b[0m\u001b[0mdict\u001b[0m\u001b[0;34m(\u001b[0m\u001b[0mzip\u001b[0m\u001b[0;34m(\u001b[0m\u001b[0mkeys\u001b[0m\u001b[0;34m,\u001b[0m \u001b[0mrow\u001b[0m\u001b[0;34m)\u001b[0m\u001b[0;34m)\u001b[0m \u001b[0;32mfor\u001b[0m \u001b[0mrow\u001b[0m \u001b[0;32min\u001b[0m \u001b[0mdata_iter\u001b[0m\u001b[0;34m]\u001b[0m\u001b[0;34m\u001b[0m\u001b[0;34m\u001b[0m\u001b[0m\n\u001b[0;32m--> 669\u001b[0;31m         \u001b[0mconn\u001b[0m\u001b[0;34m.\u001b[0m\u001b[0mexecute\u001b[0m\u001b[0;34m(\u001b[0m\u001b[0mself\u001b[0m\u001b[0;34m.\u001b[0m\u001b[0mtable\u001b[0m\u001b[0;34m.\u001b[0m\u001b[0minsert\u001b[0m\u001b[0;34m(\u001b[0m\u001b[0;34m)\u001b[0m\u001b[0;34m,\u001b[0m \u001b[0mdata\u001b[0m\u001b[0;34m)\u001b[0m\u001b[0;34m\u001b[0m\u001b[0;34m\u001b[0m\u001b[0m\n\u001b[0m\u001b[1;32m    670\u001b[0m \u001b[0;34m\u001b[0m\u001b[0m\n\u001b[1;32m    671\u001b[0m     \u001b[0;32mdef\u001b[0m \u001b[0m_execute_insert_multi\u001b[0m\u001b[0;34m(\u001b[0m\u001b[0mself\u001b[0m\u001b[0;34m,\u001b[0m \u001b[0mconn\u001b[0m\u001b[0;34m,\u001b[0m \u001b[0mkeys\u001b[0m\u001b[0;34m,\u001b[0m \u001b[0mdata_iter\u001b[0m\u001b[0;34m)\u001b[0m\u001b[0;34m:\u001b[0m\u001b[0;34m\u001b[0m\u001b[0;34m\u001b[0m\u001b[0m\n",
      "\u001b[0;32m~/anaconda3/envs/py35/lib/python3.7/site-packages/sqlalchemy/engine/base.py\u001b[0m in \u001b[0;36mexecute\u001b[0;34m(self, object_, *multiparams, **params)\u001b[0m\n\u001b[1;32m   1012\u001b[0m             )\n\u001b[1;32m   1013\u001b[0m         \u001b[0;32melse\u001b[0m\u001b[0;34m:\u001b[0m\u001b[0;34m\u001b[0m\u001b[0;34m\u001b[0m\u001b[0m\n\u001b[0;32m-> 1014\u001b[0;31m             \u001b[0;32mreturn\u001b[0m \u001b[0mmeth\u001b[0m\u001b[0;34m(\u001b[0m\u001b[0mself\u001b[0m\u001b[0;34m,\u001b[0m \u001b[0mmultiparams\u001b[0m\u001b[0;34m,\u001b[0m \u001b[0mparams\u001b[0m\u001b[0;34m)\u001b[0m\u001b[0;34m\u001b[0m\u001b[0;34m\u001b[0m\u001b[0m\n\u001b[0m\u001b[1;32m   1015\u001b[0m \u001b[0;34m\u001b[0m\u001b[0m\n\u001b[1;32m   1016\u001b[0m     \u001b[0;32mdef\u001b[0m \u001b[0m_execute_function\u001b[0m\u001b[0;34m(\u001b[0m\u001b[0mself\u001b[0m\u001b[0;34m,\u001b[0m \u001b[0mfunc\u001b[0m\u001b[0;34m,\u001b[0m \u001b[0mmultiparams\u001b[0m\u001b[0;34m,\u001b[0m \u001b[0mparams\u001b[0m\u001b[0;34m)\u001b[0m\u001b[0;34m:\u001b[0m\u001b[0;34m\u001b[0m\u001b[0;34m\u001b[0m\u001b[0m\n",
      "\u001b[0;32m~/anaconda3/envs/py35/lib/python3.7/site-packages/sqlalchemy/sql/elements.py\u001b[0m in \u001b[0;36m_execute_on_connection\u001b[0;34m(self, connection, multiparams, params)\u001b[0m\n\u001b[1;32m    296\u001b[0m     \u001b[0;32mdef\u001b[0m \u001b[0m_execute_on_connection\u001b[0m\u001b[0;34m(\u001b[0m\u001b[0mself\u001b[0m\u001b[0;34m,\u001b[0m \u001b[0mconnection\u001b[0m\u001b[0;34m,\u001b[0m \u001b[0mmultiparams\u001b[0m\u001b[0;34m,\u001b[0m \u001b[0mparams\u001b[0m\u001b[0;34m)\u001b[0m\u001b[0;34m:\u001b[0m\u001b[0;34m\u001b[0m\u001b[0;34m\u001b[0m\u001b[0m\n\u001b[1;32m    297\u001b[0m         \u001b[0;32mif\u001b[0m \u001b[0mself\u001b[0m\u001b[0;34m.\u001b[0m\u001b[0msupports_execution\u001b[0m\u001b[0;34m:\u001b[0m\u001b[0;34m\u001b[0m\u001b[0;34m\u001b[0m\u001b[0m\n\u001b[0;32m--> 298\u001b[0;31m             \u001b[0;32mreturn\u001b[0m \u001b[0mconnection\u001b[0m\u001b[0;34m.\u001b[0m\u001b[0m_execute_clauseelement\u001b[0m\u001b[0;34m(\u001b[0m\u001b[0mself\u001b[0m\u001b[0;34m,\u001b[0m \u001b[0mmultiparams\u001b[0m\u001b[0;34m,\u001b[0m \u001b[0mparams\u001b[0m\u001b[0;34m)\u001b[0m\u001b[0;34m\u001b[0m\u001b[0;34m\u001b[0m\u001b[0m\n\u001b[0m\u001b[1;32m    299\u001b[0m         \u001b[0;32melse\u001b[0m\u001b[0;34m:\u001b[0m\u001b[0;34m\u001b[0m\u001b[0;34m\u001b[0m\u001b[0m\n\u001b[1;32m    300\u001b[0m             \u001b[0;32mraise\u001b[0m \u001b[0mexc\u001b[0m\u001b[0;34m.\u001b[0m\u001b[0mObjectNotExecutableError\u001b[0m\u001b[0;34m(\u001b[0m\u001b[0mself\u001b[0m\u001b[0;34m)\u001b[0m\u001b[0;34m\u001b[0m\u001b[0;34m\u001b[0m\u001b[0m\n",
      "\u001b[0;32m~/anaconda3/envs/py35/lib/python3.7/site-packages/sqlalchemy/engine/base.py\u001b[0m in \u001b[0;36m_execute_clauseelement\u001b[0;34m(self, elem, multiparams, params)\u001b[0m\n\u001b[1;32m   1131\u001b[0m             \u001b[0mdistilled_params\u001b[0m\u001b[0;34m,\u001b[0m\u001b[0;34m\u001b[0m\u001b[0;34m\u001b[0m\u001b[0m\n\u001b[1;32m   1132\u001b[0m             \u001b[0mcompiled_sql\u001b[0m\u001b[0;34m,\u001b[0m\u001b[0;34m\u001b[0m\u001b[0;34m\u001b[0m\u001b[0m\n\u001b[0;32m-> 1133\u001b[0;31m             \u001b[0mdistilled_params\u001b[0m\u001b[0;34m,\u001b[0m\u001b[0;34m\u001b[0m\u001b[0;34m\u001b[0m\u001b[0m\n\u001b[0m\u001b[1;32m   1134\u001b[0m         )\n\u001b[1;32m   1135\u001b[0m         \u001b[0;32mif\u001b[0m \u001b[0mself\u001b[0m\u001b[0;34m.\u001b[0m\u001b[0m_has_events\u001b[0m \u001b[0;32mor\u001b[0m \u001b[0mself\u001b[0m\u001b[0;34m.\u001b[0m\u001b[0mengine\u001b[0m\u001b[0;34m.\u001b[0m\u001b[0m_has_events\u001b[0m\u001b[0;34m:\u001b[0m\u001b[0;34m\u001b[0m\u001b[0;34m\u001b[0m\u001b[0m\n",
      "\u001b[0;32m~/anaconda3/envs/py35/lib/python3.7/site-packages/sqlalchemy/engine/base.py\u001b[0m in \u001b[0;36m_execute_context\u001b[0;34m(self, dialect, constructor, statement, parameters, *args)\u001b[0m\n\u001b[1;32m   1316\u001b[0m         \u001b[0;32mexcept\u001b[0m \u001b[0mBaseException\u001b[0m \u001b[0;32mas\u001b[0m \u001b[0me\u001b[0m\u001b[0;34m:\u001b[0m\u001b[0;34m\u001b[0m\u001b[0;34m\u001b[0m\u001b[0m\n\u001b[1;32m   1317\u001b[0m             self._handle_dbapi_exception(\n\u001b[0;32m-> 1318\u001b[0;31m                 \u001b[0me\u001b[0m\u001b[0;34m,\u001b[0m \u001b[0mstatement\u001b[0m\u001b[0;34m,\u001b[0m \u001b[0mparameters\u001b[0m\u001b[0;34m,\u001b[0m \u001b[0mcursor\u001b[0m\u001b[0;34m,\u001b[0m \u001b[0mcontext\u001b[0m\u001b[0;34m\u001b[0m\u001b[0;34m\u001b[0m\u001b[0m\n\u001b[0m\u001b[1;32m   1319\u001b[0m             )\n\u001b[1;32m   1320\u001b[0m \u001b[0;34m\u001b[0m\u001b[0m\n",
      "\u001b[0;32m~/anaconda3/envs/py35/lib/python3.7/site-packages/sqlalchemy/engine/base.py\u001b[0m in \u001b[0;36m_handle_dbapi_exception\u001b[0;34m(self, e, statement, parameters, cursor, context)\u001b[0m\n\u001b[1;32m   1513\u001b[0m                 )\n\u001b[1;32m   1514\u001b[0m             \u001b[0;32melse\u001b[0m\u001b[0;34m:\u001b[0m\u001b[0;34m\u001b[0m\u001b[0;34m\u001b[0m\u001b[0m\n\u001b[0;32m-> 1515\u001b[0;31m                 \u001b[0mutil\u001b[0m\u001b[0;34m.\u001b[0m\u001b[0mraise_\u001b[0m\u001b[0;34m(\u001b[0m\u001b[0mexc_info\u001b[0m\u001b[0;34m[\u001b[0m\u001b[0;36m1\u001b[0m\u001b[0;34m]\u001b[0m\u001b[0;34m,\u001b[0m \u001b[0mwith_traceback\u001b[0m\u001b[0;34m=\u001b[0m\u001b[0mexc_info\u001b[0m\u001b[0;34m[\u001b[0m\u001b[0;36m2\u001b[0m\u001b[0;34m]\u001b[0m\u001b[0;34m)\u001b[0m\u001b[0;34m\u001b[0m\u001b[0;34m\u001b[0m\u001b[0m\n\u001b[0m\u001b[1;32m   1516\u001b[0m \u001b[0;34m\u001b[0m\u001b[0m\n\u001b[1;32m   1517\u001b[0m         \u001b[0;32mfinally\u001b[0m\u001b[0;34m:\u001b[0m\u001b[0;34m\u001b[0m\u001b[0;34m\u001b[0m\u001b[0m\n",
      "\u001b[0;32m~/anaconda3/envs/py35/lib/python3.7/site-packages/sqlalchemy/util/compat.py\u001b[0m in \u001b[0;36mraise_\u001b[0;34m(***failed resolving arguments***)\u001b[0m\n\u001b[1;32m    176\u001b[0m \u001b[0;34m\u001b[0m\u001b[0m\n\u001b[1;32m    177\u001b[0m         \u001b[0;32mtry\u001b[0m\u001b[0;34m:\u001b[0m\u001b[0;34m\u001b[0m\u001b[0;34m\u001b[0m\u001b[0m\n\u001b[0;32m--> 178\u001b[0;31m             \u001b[0;32mraise\u001b[0m \u001b[0mexception\u001b[0m\u001b[0;34m\u001b[0m\u001b[0;34m\u001b[0m\u001b[0m\n\u001b[0m\u001b[1;32m    179\u001b[0m         \u001b[0;32mfinally\u001b[0m\u001b[0;34m:\u001b[0m\u001b[0;34m\u001b[0m\u001b[0;34m\u001b[0m\u001b[0m\n\u001b[1;32m    180\u001b[0m             \u001b[0;31m# credit to\u001b[0m\u001b[0;34m\u001b[0m\u001b[0;34m\u001b[0m\u001b[0;34m\u001b[0m\u001b[0m\n",
      "\u001b[0;32m~/anaconda3/envs/py35/lib/python3.7/site-packages/sqlalchemy/engine/base.py\u001b[0m in \u001b[0;36m_execute_context\u001b[0;34m(self, dialect, constructor, statement, parameters, *args)\u001b[0m\n\u001b[1;32m   1256\u001b[0m                 \u001b[0;32mif\u001b[0m \u001b[0;32mnot\u001b[0m \u001b[0mevt_handled\u001b[0m\u001b[0;34m:\u001b[0m\u001b[0;34m\u001b[0m\u001b[0;34m\u001b[0m\u001b[0m\n\u001b[1;32m   1257\u001b[0m                     self.dialect.do_executemany(\n\u001b[0;32m-> 1258\u001b[0;31m                         \u001b[0mcursor\u001b[0m\u001b[0;34m,\u001b[0m \u001b[0mstatement\u001b[0m\u001b[0;34m,\u001b[0m \u001b[0mparameters\u001b[0m\u001b[0;34m,\u001b[0m \u001b[0mcontext\u001b[0m\u001b[0;34m\u001b[0m\u001b[0;34m\u001b[0m\u001b[0m\n\u001b[0m\u001b[1;32m   1259\u001b[0m                     )\n\u001b[1;32m   1260\u001b[0m             \u001b[0;32melif\u001b[0m \u001b[0;32mnot\u001b[0m \u001b[0mparameters\u001b[0m \u001b[0;32mand\u001b[0m \u001b[0mcontext\u001b[0m\u001b[0;34m.\u001b[0m\u001b[0mno_parameters\u001b[0m\u001b[0;34m:\u001b[0m\u001b[0;34m\u001b[0m\u001b[0;34m\u001b[0m\u001b[0m\n",
      "\u001b[0;32m~/anaconda3/envs/py35/lib/python3.7/site-packages/sqlalchemy/dialects/postgresql/psycopg2.py\u001b[0m in \u001b[0;36mdo_executemany\u001b[0;34m(self, cursor, statement, parameters, context)\u001b[0m\n\u001b[1;32m    871\u001b[0m     \u001b[0;32mdef\u001b[0m \u001b[0mdo_executemany\u001b[0m\u001b[0;34m(\u001b[0m\u001b[0mself\u001b[0m\u001b[0;34m,\u001b[0m \u001b[0mcursor\u001b[0m\u001b[0;34m,\u001b[0m \u001b[0mstatement\u001b[0m\u001b[0;34m,\u001b[0m \u001b[0mparameters\u001b[0m\u001b[0;34m,\u001b[0m \u001b[0mcontext\u001b[0m\u001b[0;34m=\u001b[0m\u001b[0;32mNone\u001b[0m\u001b[0;34m)\u001b[0m\u001b[0;34m:\u001b[0m\u001b[0;34m\u001b[0m\u001b[0;34m\u001b[0m\u001b[0m\n\u001b[1;32m    872\u001b[0m         \u001b[0;32mif\u001b[0m \u001b[0mself\u001b[0m\u001b[0;34m.\u001b[0m\u001b[0mexecutemany_mode\u001b[0m \u001b[0;32mis\u001b[0m \u001b[0mEXECUTEMANY_DEFAULT\u001b[0m\u001b[0;34m:\u001b[0m\u001b[0;34m\u001b[0m\u001b[0;34m\u001b[0m\u001b[0m\n\u001b[0;32m--> 873\u001b[0;31m             \u001b[0mcursor\u001b[0m\u001b[0;34m.\u001b[0m\u001b[0mexecutemany\u001b[0m\u001b[0;34m(\u001b[0m\u001b[0mstatement\u001b[0m\u001b[0;34m,\u001b[0m \u001b[0mparameters\u001b[0m\u001b[0;34m)\u001b[0m\u001b[0;34m\u001b[0m\u001b[0;34m\u001b[0m\u001b[0m\n\u001b[0m\u001b[1;32m    874\u001b[0m             \u001b[0;32mreturn\u001b[0m\u001b[0;34m\u001b[0m\u001b[0;34m\u001b[0m\u001b[0m\n\u001b[1;32m    875\u001b[0m \u001b[0;34m\u001b[0m\u001b[0m\n",
      "\u001b[0;32m~/anaconda3/envs/py35/lib/python3.7/encodings/utf_8.py\u001b[0m in \u001b[0;36mdecode\u001b[0;34m(input, errors)\u001b[0m\n\u001b[1;32m     13\u001b[0m \u001b[0mencode\u001b[0m \u001b[0;34m=\u001b[0m \u001b[0mcodecs\u001b[0m\u001b[0;34m.\u001b[0m\u001b[0mutf_8_encode\u001b[0m\u001b[0;34m\u001b[0m\u001b[0;34m\u001b[0m\u001b[0m\n\u001b[1;32m     14\u001b[0m \u001b[0;34m\u001b[0m\u001b[0m\n\u001b[0;32m---> 15\u001b[0;31m \u001b[0;32mdef\u001b[0m \u001b[0mdecode\u001b[0m\u001b[0;34m(\u001b[0m\u001b[0minput\u001b[0m\u001b[0;34m,\u001b[0m \u001b[0merrors\u001b[0m\u001b[0;34m=\u001b[0m\u001b[0;34m'strict'\u001b[0m\u001b[0;34m)\u001b[0m\u001b[0;34m:\u001b[0m\u001b[0;34m\u001b[0m\u001b[0;34m\u001b[0m\u001b[0m\n\u001b[0m\u001b[1;32m     16\u001b[0m     \u001b[0;32mreturn\u001b[0m \u001b[0mcodecs\u001b[0m\u001b[0;34m.\u001b[0m\u001b[0mutf_8_decode\u001b[0m\u001b[0;34m(\u001b[0m\u001b[0minput\u001b[0m\u001b[0;34m,\u001b[0m \u001b[0merrors\u001b[0m\u001b[0;34m,\u001b[0m \u001b[0;32mTrue\u001b[0m\u001b[0;34m)\u001b[0m\u001b[0;34m\u001b[0m\u001b[0;34m\u001b[0m\u001b[0m\n\u001b[1;32m     17\u001b[0m \u001b[0;34m\u001b[0m\u001b[0m\n",
      "\u001b[0;31mKeyboardInterrupt\u001b[0m: "
     ]
    }
   ],
   "source": [
    "locations_df.to_sql(\n",
    "    name='locations',\n",
    "    con=engine,\n",
    "    index=True,\n",
    "    if_exists='append'\n",
    ")"
   ]
  },
  {
   "cell_type": "code",
   "execution_count": null,
   "metadata": {},
   "outputs": [],
   "source": [
    "cases_df.to_sql(\n",
    "    name='cases',\n",
    "    con=engine,\n",
    "    index=True,\n",
    "    if_exists='append'\n",
    ")"
   ]
  },
  {
   "cell_type": "code",
   "execution_count": 14,
   "metadata": {},
   "outputs": [],
   "source": [
    "avail_hospital_beds_df.to_sql(\n",
    "    name='avail_hospital_beds',\n",
    "    con=engine,\n",
    "    index=True,\n",
    "    if_exists='append'\n",
    ")"
   ]
  }
 ],
 "metadata": {
  "kernelspec": {
   "display_name": "Python 3",
   "language": "python",
   "name": "python3"
  },
  "language_info": {
   "codemirror_mode": {
    "name": "ipython",
    "version": 3
   },
   "file_extension": ".py",
   "mimetype": "text/x-python",
   "name": "python",
   "nbconvert_exporter": "python",
   "pygments_lexer": "ipython3",
   "version": "3.7.7-final"
  }
 },
 "nbformat": 4,
 "nbformat_minor": 4
}